{
 "cells": [
  {
   "cell_type": "code",
   "execution_count": 1,
   "metadata": {},
   "outputs": [],
   "source": [
    "# Importing Libraries\n",
    "\n",
    "import numpy as np\n",
    "import pandas as pd\n",
    "import matplotlib.pyplot as plt\n",
    "import seaborn as sns\n",
    "\n",
    "\n",
    "from termcolor import colored\n",
    "import plotly.express as px\n",
    "\n",
    "import warnings\n",
    "warnings.filterwarnings(\"ignore\")"
   ]
  },
  {
   "cell_type": "code",
   "execution_count": 2,
   "metadata": {},
   "outputs": [],
   "source": [
    "# Reading File\n",
    "\n",
    "df = pd.read_csv(\"netflix_titles.csv\")"
   ]
  },
  {
   "cell_type": "code",
   "execution_count": 3,
   "metadata": {},
   "outputs": [
    {
     "data": {
      "text/html": [
       "<div>\n",
       "<style scoped>\n",
       "    .dataframe tbody tr th:only-of-type {\n",
       "        vertical-align: middle;\n",
       "    }\n",
       "\n",
       "    .dataframe tbody tr th {\n",
       "        vertical-align: top;\n",
       "    }\n",
       "\n",
       "    .dataframe thead th {\n",
       "        text-align: right;\n",
       "    }\n",
       "</style>\n",
       "<table border=\"1\" class=\"dataframe\">\n",
       "  <thead>\n",
       "    <tr style=\"text-align: right;\">\n",
       "      <th></th>\n",
       "      <th>show_id</th>\n",
       "      <th>type</th>\n",
       "      <th>title</th>\n",
       "      <th>director</th>\n",
       "      <th>cast</th>\n",
       "      <th>country</th>\n",
       "      <th>date_added</th>\n",
       "      <th>release_year</th>\n",
       "      <th>rating</th>\n",
       "      <th>duration</th>\n",
       "      <th>listed_in</th>\n",
       "      <th>description</th>\n",
       "    </tr>\n",
       "  </thead>\n",
       "  <tbody>\n",
       "    <tr>\n",
       "      <th>0</th>\n",
       "      <td>81145628</td>\n",
       "      <td>Movie</td>\n",
       "      <td>Norm of the North: King Sized Adventure</td>\n",
       "      <td>Richard Finn, Tim Maltby</td>\n",
       "      <td>Alan Marriott, Andrew Toth, Brian Dobson, Cole...</td>\n",
       "      <td>United States, India, South Korea, China</td>\n",
       "      <td>September 9, 2019</td>\n",
       "      <td>2019</td>\n",
       "      <td>TV-PG</td>\n",
       "      <td>90 min</td>\n",
       "      <td>Children &amp; Family Movies, Comedies</td>\n",
       "      <td>Before planning an awesome wedding for his gra...</td>\n",
       "    </tr>\n",
       "    <tr>\n",
       "      <th>1</th>\n",
       "      <td>80117401</td>\n",
       "      <td>Movie</td>\n",
       "      <td>Jandino: Whatever it Takes</td>\n",
       "      <td>NaN</td>\n",
       "      <td>Jandino Asporaat</td>\n",
       "      <td>United Kingdom</td>\n",
       "      <td>September 9, 2016</td>\n",
       "      <td>2016</td>\n",
       "      <td>TV-MA</td>\n",
       "      <td>94 min</td>\n",
       "      <td>Stand-Up Comedy</td>\n",
       "      <td>Jandino Asporaat riffs on the challenges of ra...</td>\n",
       "    </tr>\n",
       "    <tr>\n",
       "      <th>2</th>\n",
       "      <td>70234439</td>\n",
       "      <td>TV Show</td>\n",
       "      <td>Transformers Prime</td>\n",
       "      <td>NaN</td>\n",
       "      <td>Peter Cullen, Sumalee Montano, Frank Welker, J...</td>\n",
       "      <td>United States</td>\n",
       "      <td>September 8, 2018</td>\n",
       "      <td>2013</td>\n",
       "      <td>TV-Y7-FV</td>\n",
       "      <td>1 Season</td>\n",
       "      <td>Kids' TV</td>\n",
       "      <td>With the help of three human allies, the Autob...</td>\n",
       "    </tr>\n",
       "    <tr>\n",
       "      <th>3</th>\n",
       "      <td>80058654</td>\n",
       "      <td>TV Show</td>\n",
       "      <td>Transformers: Robots in Disguise</td>\n",
       "      <td>NaN</td>\n",
       "      <td>Will Friedle, Darren Criss, Constance Zimmer, ...</td>\n",
       "      <td>United States</td>\n",
       "      <td>September 8, 2018</td>\n",
       "      <td>2016</td>\n",
       "      <td>TV-Y7</td>\n",
       "      <td>1 Season</td>\n",
       "      <td>Kids' TV</td>\n",
       "      <td>When a prison ship crash unleashes hundreds of...</td>\n",
       "    </tr>\n",
       "    <tr>\n",
       "      <th>4</th>\n",
       "      <td>80125979</td>\n",
       "      <td>Movie</td>\n",
       "      <td>#realityhigh</td>\n",
       "      <td>Fernando Lebrija</td>\n",
       "      <td>Nesta Cooper, Kate Walsh, John Michael Higgins...</td>\n",
       "      <td>United States</td>\n",
       "      <td>September 8, 2017</td>\n",
       "      <td>2017</td>\n",
       "      <td>TV-14</td>\n",
       "      <td>99 min</td>\n",
       "      <td>Comedies</td>\n",
       "      <td>When nerdy high schooler Dani finally attracts...</td>\n",
       "    </tr>\n",
       "  </tbody>\n",
       "</table>\n",
       "</div>"
      ],
      "text/plain": [
       "    show_id     type                                    title  \\\n",
       "0  81145628    Movie  Norm of the North: King Sized Adventure   \n",
       "1  80117401    Movie               Jandino: Whatever it Takes   \n",
       "2  70234439  TV Show                       Transformers Prime   \n",
       "3  80058654  TV Show         Transformers: Robots in Disguise   \n",
       "4  80125979    Movie                             #realityhigh   \n",
       "\n",
       "                   director  \\\n",
       "0  Richard Finn, Tim Maltby   \n",
       "1                       NaN   \n",
       "2                       NaN   \n",
       "3                       NaN   \n",
       "4          Fernando Lebrija   \n",
       "\n",
       "                                                cast  \\\n",
       "0  Alan Marriott, Andrew Toth, Brian Dobson, Cole...   \n",
       "1                                   Jandino Asporaat   \n",
       "2  Peter Cullen, Sumalee Montano, Frank Welker, J...   \n",
       "3  Will Friedle, Darren Criss, Constance Zimmer, ...   \n",
       "4  Nesta Cooper, Kate Walsh, John Michael Higgins...   \n",
       "\n",
       "                                    country         date_added  release_year  \\\n",
       "0  United States, India, South Korea, China  September 9, 2019          2019   \n",
       "1                            United Kingdom  September 9, 2016          2016   \n",
       "2                             United States  September 8, 2018          2013   \n",
       "3                             United States  September 8, 2018          2016   \n",
       "4                             United States  September 8, 2017          2017   \n",
       "\n",
       "     rating  duration                           listed_in  \\\n",
       "0     TV-PG    90 min  Children & Family Movies, Comedies   \n",
       "1     TV-MA    94 min                     Stand-Up Comedy   \n",
       "2  TV-Y7-FV  1 Season                            Kids' TV   \n",
       "3     TV-Y7  1 Season                            Kids' TV   \n",
       "4     TV-14    99 min                            Comedies   \n",
       "\n",
       "                                         description  \n",
       "0  Before planning an awesome wedding for his gra...  \n",
       "1  Jandino Asporaat riffs on the challenges of ra...  \n",
       "2  With the help of three human allies, the Autob...  \n",
       "3  When a prison ship crash unleashes hundreds of...  \n",
       "4  When nerdy high schooler Dani finally attracts...  "
      ]
     },
     "execution_count": 3,
     "metadata": {},
     "output_type": "execute_result"
    }
   ],
   "source": [
    "#Checking Data Frame\n",
    "\n",
    "df.head()"
   ]
  },
  {
   "cell_type": "code",
   "execution_count": 4,
   "metadata": {},
   "outputs": [
    {
     "name": "stdout",
     "output_type": "stream",
     "text": [
      "<class 'pandas.core.frame.DataFrame'>\n",
      "RangeIndex: 6234 entries, 0 to 6233\n",
      "Data columns (total 12 columns):\n",
      " #   Column        Non-Null Count  Dtype \n",
      "---  ------        --------------  ----- \n",
      " 0   show_id       6234 non-null   int64 \n",
      " 1   type          6234 non-null   object\n",
      " 2   title         6234 non-null   object\n",
      " 3   director      4265 non-null   object\n",
      " 4   cast          5664 non-null   object\n",
      " 5   country       5758 non-null   object\n",
      " 6   date_added    6223 non-null   object\n",
      " 7   release_year  6234 non-null   int64 \n",
      " 8   rating        6224 non-null   object\n",
      " 9   duration      6234 non-null   object\n",
      " 10  listed_in     6234 non-null   object\n",
      " 11  description   6234 non-null   object\n",
      "dtypes: int64(2), object(10)\n",
      "memory usage: 584.6+ KB\n"
     ]
    }
   ],
   "source": [
    "#Checking general info about dataframe\n",
    "\n",
    "df.info()"
   ]
  },
  {
   "cell_type": "code",
   "execution_count": 5,
   "metadata": {},
   "outputs": [
    {
     "name": "stdout",
     "output_type": "stream",
     "text": [
      "\u001b[1mThere are 6234 row and 12 columns.\u001b[0m\n"
     ]
    }
   ],
   "source": [
    "#Checking DataFrame size\n",
    "#df.shape\n",
    "\n",
    "print(colored(\"There are {} row and {} columns.\".format(df.shape[0],df.shape[1]),attrs=[\"bold\"]))"
   ]
  },
  {
   "cell_type": "code",
   "execution_count": 6,
   "metadata": {},
   "outputs": [
    {
     "data": {
      "text/plain": [
       "Index(['show_id', 'type', 'title', 'director', 'cast', 'country', 'date_added',\n",
       "       'release_year', 'rating', 'duration', 'listed_in', 'description'],\n",
       "      dtype='object')"
      ]
     },
     "execution_count": 6,
     "metadata": {},
     "output_type": "execute_result"
    }
   ],
   "source": [
    "# Checking columns names\n",
    "\n",
    "df.columns"
   ]
  },
  {
   "cell_type": "code",
   "execution_count": 7,
   "metadata": {},
   "outputs": [
    {
     "name": "stdout",
     "output_type": "stream",
     "text": [
      "\u001b[1mThere are duplicates False    6234\n",
      "dtype: int64.\u001b[0m\n"
     ]
    }
   ],
   "source": [
    "#Checking duplicates rows\n",
    "\n",
    "#df.duplicated().value_counts()\n",
    "print(colored(\"There are duplicates {}.\".format(df.duplicated().value_counts()),attrs=['bold']))"
   ]
  },
  {
   "cell_type": "code",
   "execution_count": 8,
   "metadata": {},
   "outputs": [
    {
     "data": {
      "text/plain": [
       "show_id            0\n",
       "type               0\n",
       "title              0\n",
       "director        1969\n",
       "cast             570\n",
       "country          476\n",
       "date_added        11\n",
       "release_year       0\n",
       "rating            10\n",
       "duration           0\n",
       "listed_in          0\n",
       "description        0\n",
       "dtype: int64"
      ]
     },
     "execution_count": 8,
     "metadata": {},
     "output_type": "execute_result"
    }
   ],
   "source": [
    "#Checking null values based on columns\n",
    "\n",
    "df.isnull().sum()\n"
   ]
  },
  {
   "cell_type": "code",
   "execution_count": 9,
   "metadata": {},
   "outputs": [],
   "source": [
    "#Director record have too much null so i will drop it\n",
    "df.drop(['director'],axis = 1,inplace = True)\n"
   ]
  },
  {
   "cell_type": "code",
   "execution_count": 10,
   "metadata": {
    "scrolled": false
   },
   "outputs": [],
   "source": [
    "#Since Netflix is created in the USA and every show is broadcast in the US,\n",
    "#I will fill in all missing values in the 'country' column with the United States.\n",
    "\n",
    "df['country'].replace(np.nan, \"United States\",inplace = True)"
   ]
  },
  {
   "cell_type": "code",
   "execution_count": 11,
   "metadata": {},
   "outputs": [],
   "source": [
    "#I choose to drop the 'dump' columns altogether as they have missing values and dropping these columns will not effect my visualization\n",
    "#df.drop(['cast'],axis=1,inplace = True)"
   ]
  },
  {
   "cell_type": "code",
   "execution_count": 12,
   "metadata": {
    "scrolled": true
   },
   "outputs": [
    {
     "data": {
      "text/html": [
       "<div>\n",
       "<style scoped>\n",
       "    .dataframe tbody tr th:only-of-type {\n",
       "        vertical-align: middle;\n",
       "    }\n",
       "\n",
       "    .dataframe tbody tr th {\n",
       "        vertical-align: top;\n",
       "    }\n",
       "\n",
       "    .dataframe thead th {\n",
       "        text-align: right;\n",
       "    }\n",
       "</style>\n",
       "<table border=\"1\" class=\"dataframe\">\n",
       "  <thead>\n",
       "    <tr style=\"text-align: right;\">\n",
       "      <th></th>\n",
       "      <th>show_id</th>\n",
       "      <th>type</th>\n",
       "      <th>title</th>\n",
       "      <th>cast</th>\n",
       "      <th>country</th>\n",
       "      <th>date_added</th>\n",
       "      <th>release_year</th>\n",
       "      <th>rating</th>\n",
       "      <th>duration</th>\n",
       "      <th>listed_in</th>\n",
       "      <th>description</th>\n",
       "    </tr>\n",
       "  </thead>\n",
       "  <tbody>\n",
       "    <tr>\n",
       "      <th>0</th>\n",
       "      <td>81145628</td>\n",
       "      <td>Movie</td>\n",
       "      <td>Norm of the North: King Sized Adventure</td>\n",
       "      <td>Alan Marriott, Andrew Toth, Brian Dobson, Cole...</td>\n",
       "      <td>United States, India, South Korea, China</td>\n",
       "      <td>September 9, 2019</td>\n",
       "      <td>2019</td>\n",
       "      <td>TV-PG</td>\n",
       "      <td>90 min</td>\n",
       "      <td>Children &amp; Family Movies, Comedies</td>\n",
       "      <td>Before planning an awesome wedding for his gra...</td>\n",
       "    </tr>\n",
       "    <tr>\n",
       "      <th>1</th>\n",
       "      <td>80117401</td>\n",
       "      <td>Movie</td>\n",
       "      <td>Jandino: Whatever it Takes</td>\n",
       "      <td>Jandino Asporaat</td>\n",
       "      <td>United Kingdom</td>\n",
       "      <td>September 9, 2016</td>\n",
       "      <td>2016</td>\n",
       "      <td>TV-MA</td>\n",
       "      <td>94 min</td>\n",
       "      <td>Stand-Up Comedy</td>\n",
       "      <td>Jandino Asporaat riffs on the challenges of ra...</td>\n",
       "    </tr>\n",
       "    <tr>\n",
       "      <th>2</th>\n",
       "      <td>70234439</td>\n",
       "      <td>TV Show</td>\n",
       "      <td>Transformers Prime</td>\n",
       "      <td>Peter Cullen, Sumalee Montano, Frank Welker, J...</td>\n",
       "      <td>United States</td>\n",
       "      <td>September 8, 2018</td>\n",
       "      <td>2013</td>\n",
       "      <td>TV-Y7-FV</td>\n",
       "      <td>1 Season</td>\n",
       "      <td>Kids' TV</td>\n",
       "      <td>With the help of three human allies, the Autob...</td>\n",
       "    </tr>\n",
       "    <tr>\n",
       "      <th>3</th>\n",
       "      <td>80058654</td>\n",
       "      <td>TV Show</td>\n",
       "      <td>Transformers: Robots in Disguise</td>\n",
       "      <td>Will Friedle, Darren Criss, Constance Zimmer, ...</td>\n",
       "      <td>United States</td>\n",
       "      <td>September 8, 2018</td>\n",
       "      <td>2016</td>\n",
       "      <td>TV-Y7</td>\n",
       "      <td>1 Season</td>\n",
       "      <td>Kids' TV</td>\n",
       "      <td>When a prison ship crash unleashes hundreds of...</td>\n",
       "    </tr>\n",
       "    <tr>\n",
       "      <th>4</th>\n",
       "      <td>80125979</td>\n",
       "      <td>Movie</td>\n",
       "      <td>#realityhigh</td>\n",
       "      <td>Nesta Cooper, Kate Walsh, John Michael Higgins...</td>\n",
       "      <td>United States</td>\n",
       "      <td>September 8, 2017</td>\n",
       "      <td>2017</td>\n",
       "      <td>TV-14</td>\n",
       "      <td>99 min</td>\n",
       "      <td>Comedies</td>\n",
       "      <td>When nerdy high schooler Dani finally attracts...</td>\n",
       "    </tr>\n",
       "  </tbody>\n",
       "</table>\n",
       "</div>"
      ],
      "text/plain": [
       "    show_id     type                                    title  \\\n",
       "0  81145628    Movie  Norm of the North: King Sized Adventure   \n",
       "1  80117401    Movie               Jandino: Whatever it Takes   \n",
       "2  70234439  TV Show                       Transformers Prime   \n",
       "3  80058654  TV Show         Transformers: Robots in Disguise   \n",
       "4  80125979    Movie                             #realityhigh   \n",
       "\n",
       "                                                cast  \\\n",
       "0  Alan Marriott, Andrew Toth, Brian Dobson, Cole...   \n",
       "1                                   Jandino Asporaat   \n",
       "2  Peter Cullen, Sumalee Montano, Frank Welker, J...   \n",
       "3  Will Friedle, Darren Criss, Constance Zimmer, ...   \n",
       "4  Nesta Cooper, Kate Walsh, John Michael Higgins...   \n",
       "\n",
       "                                    country         date_added  release_year  \\\n",
       "0  United States, India, South Korea, China  September 9, 2019          2019   \n",
       "1                            United Kingdom  September 9, 2016          2016   \n",
       "2                             United States  September 8, 2018          2013   \n",
       "3                             United States  September 8, 2018          2016   \n",
       "4                             United States  September 8, 2017          2017   \n",
       "\n",
       "     rating  duration                           listed_in  \\\n",
       "0     TV-PG    90 min  Children & Family Movies, Comedies   \n",
       "1     TV-MA    94 min                     Stand-Up Comedy   \n",
       "2  TV-Y7-FV  1 Season                            Kids' TV   \n",
       "3     TV-Y7  1 Season                            Kids' TV   \n",
       "4     TV-14    99 min                            Comedies   \n",
       "\n",
       "                                         description  \n",
       "0  Before planning an awesome wedding for his gra...  \n",
       "1  Jandino Asporaat riffs on the challenges of ra...  \n",
       "2  With the help of three human allies, the Autob...  \n",
       "3  When a prison ship crash unleashes hundreds of...  \n",
       "4  When nerdy high schooler Dani finally attracts...  "
      ]
     },
     "execution_count": 12,
     "metadata": {},
     "output_type": "execute_result"
    }
   ],
   "source": [
    "df.head()"
   ]
  },
  {
   "cell_type": "code",
   "execution_count": 13,
   "metadata": {},
   "outputs": [],
   "source": [
    "## add new features in the dataset\n",
    "df[\"date_added\"] = pd.to_datetime(df['date_added'])\n",
    "df['year_added'] = df['date_added'].dt.year\n",
    "df['month_added'] = df['date_added'].dt.month"
   ]
  },
  {
   "cell_type": "code",
   "execution_count": 14,
   "metadata": {
    "scrolled": false
   },
   "outputs": [
    {
     "data": {
      "image/png": "[encoded data removed]",
      "text/plain": [
       "<Figure size 1152x576 with 1 Axes>"
      ]
     },
     "metadata": {},
     "output_type": "display_data"
    }
   ],
   "source": [
    "#Content type on Netflix\n",
    "plt.figure(figsize=(16,8))\n",
    "\n",
    "cmap = plt.get_cmap('Spectral')\n",
    "colors = [cmap(i) for i in np.linspace(0, 1, 5)]\n",
    "plt.pie(df['type'].value_counts().sort_values(),\n",
    "        labels=df['type'].value_counts().index,explode=[0.05,0],\n",
    "        autopct='%1.2f%%',\n",
    "        colors=colors);"
   ]
  },
  {
   "cell_type": "code",
   "execution_count": 15,
   "metadata": {
    "scrolled": false
   },
   "outputs": [
    {
     "data": {
      "image/png": "[encoded data removed]",
      "text/plain": [
       "<Figure size 1008x720 with 1 Axes>"
      ]
     },
     "metadata": {
      "needs_background": "light"
     },
     "output_type": "display_data"
    }
   ],
   "source": [
    "plt.figure(figsize = (14,10))\n",
    "sns.countplot(x='rating',data = df,hue='type')\n",
    "plt.title(\"Rating of the show on Netflix\");\n"
   ]
  },
  {
   "cell_type": "code",
   "execution_count": 16,
   "metadata": {
    "scrolled": false
   },
   "outputs": [
    {
     "data": {
      "text/plain": [
       "Text(0.5, 1.0, 'Top 10 Genres of TV Shows')"
      ]
     },
     "execution_count": 16,
     "metadata": {},
     "output_type": "execute_result"
    },
    {
     "data": {
      "image/png": "[encoded data removed]",
      "text/plain": [
       "<Figure size 864x432 with 1 Axes>"
      ]
     },
     "metadata": {
      "needs_background": "light"
     },
     "output_type": "display_data"
    }
   ],
   "source": [
    "plt.figure(figsize=(12,6))\n",
    "df[df[\"type\"]==\"TV Show\"][\"listed_in\"].value_counts()[:15].plot(kind=\"barh\",color=\"r\")\n",
    "plt.title(\"Top 10 Genres of TV Shows\",size=18)"
   ]
  },
  {
   "cell_type": "code",
   "execution_count": 17,
   "metadata": {},
   "outputs": [
    {
     "data": {
      "text/plain": [
       "Text(0.5, 1.0, 'Top 10 Genres of Movies')"
      ]
     },
     "execution_count": 17,
     "metadata": {},
     "output_type": "execute_result"
    },
    {
     "data": {
      "image/png": "[encoded data removed]",
      "text/plain": [
       "<Figure size 864x432 with 1 Axes>"
      ]
     },
     "metadata": {
      "needs_background": "light"
     },
     "output_type": "display_data"
    }
   ],
   "source": [
    "plt.figure(figsize=(12,6))\n",
    "df[df[\"type\"]==\"Movie\"][\"listed_in\"].value_counts()[:15].plot(kind=\"barh\",color=\"r\")\n",
    "plt.title(\"Top 10 Genres of Movies\",size=18)"
   ]
  },
  {
   "cell_type": "code",
   "execution_count": 18,
   "metadata": {},
   "outputs": [],
   "source": [
    "d1 = df[df[\"type\"] == \"TV Show\"]\n",
    "d2 = df[df[\"type\"] == \"Movie\"]\n",
    "\n",
    "col = \"year_added\"\n",
    "\n",
    "vc1 = d1[col].value_counts().reset_index()\n",
    "vc1 = vc1.rename(columns = {col : \"count\", \"index\" : col})\n",
    "vc1['percent'] = vc1['count'].apply(lambda x : 100*x/sum(vc1['count']))\n",
    "vc1 = vc1.sort_values(col)\n",
    "\n",
    "vc2 = d2[col].value_counts().reset_index()\n",
    "vc2 = vc2.rename(columns = {col : \"count\", \"index\" : col})\n",
    "vc2['percent'] = vc2['count'].apply(lambda x : 100*x/sum(vc2['count']))\n",
    "vc2 = vc2.sort_values(col)"
   ]
  },
  {
   "cell_type": "code",
   "execution_count": 19,
   "metadata": {},
   "outputs": [
    {
     "data": {
      "image/png": "[encoded data removed]",
      "text/plain": [
       "<Figure size 1224x648 with 1 Axes>"
      ]
     },
     "metadata": {},
     "output_type": "display_data"
    }
   ],
   "source": [
    "sns.set()\n",
    "plt.figure(figsize=(17,9))\n",
    "sns.countplot(x=\"country\",data= df,hue= \"type\",order = df['country'].value_counts().index[0:15])\n",
    "plt.xticks(rotation=45)\n",
    "plt.show()"
   ]
  },
  {
   "cell_type": "code",
   "execution_count": 47,
   "metadata": {},
   "outputs": [
    {
     "data": {
      "image/png": "[encoded data removed]",
      "text/plain": [
       "<Figure size 864x432 with 1 Axes>"
      ]
     },
     "metadata": {},
     "output_type": "display_data"
    }
   ],
   "source": [
    "time = df[df[\"type\"] == \"Movie\"]['duration'].value_counts()\n",
    "\n",
    "plt.figure(figsize=(12,6))\n",
    "\n",
    "time[:10].plot(kind=\"bar\",color=\"r\")\n",
    "plt.title('Distribution of Movie Duration',size=15);\n"
   ]
  },
  {
   "cell_type": "code",
   "execution_count": 48,
   "metadata": {},
   "outputs": [
    {
     "data": {
      "application/vnd.plotly.v1+json": {
       "config": {
        "plotlyServerURL": "https://plot.ly"
       },
       "data": [
        {
         "colorscale": [
          [
           0,
           "#636efa"
          ],
          [
           1,
           "#636efa"
          ]
         ],
         "featureidkey": "Country.country",
         "geo": "geo",
         "hovertemplate": "locations=%{location}<extra></extra>",
         "locationmode": "country names",
         "locations": [
          "United States",
          "India",
          "United Kingdom",
          "Japan",
          "Canada",
          "South Korea",
          "Spain",
          "France",
          "Mexico",
          "Turkey",
          "Australia",
          "Taiwan",
          "Hong Kong",
          "Thailand",
          "Egypt",
          "Brazil",
          "United Kingdom, United States",
          "China",
          "Indonesia",
          "Philippines",
          "Germany",
          "United States, Canada",
          "Argentina",
          "Nigeria",
          "Canada, United States",
          "United States, United Kingdom",
          "Colombia",
          "France, Belgium",
          "Italy",
          "Pakistan",
          "Malaysia",
          "Hong Kong, China",
          "China, Hong Kong",
          "Singapore",
          "United States, Japan",
          "United States, Germany",
          "Russia",
          "Israel",
          "Denmark",
          "Poland",
          "Netherlands",
          "Chile",
          "Ireland",
          "United States, Australia",
          "Mexico, United States",
          "United States, Mexico",
          "United States, France",
          "New Zealand",
          "Norway",
          "India, United States",
          "Sweden",
          "Argentina, Spain",
          "United States, France, Japan",
          "Australia, United States",
          "United States, India",
          "United Kingdom, France",
          "Belgium",
          "South Korea, United States",
          "Japan, United States",
          "Germany, United States",
          "United States, China",
          "Lebanon",
          "Spain, France",
          "South Africa",
          "United Kingdom, Canada, United States",
          "Peru",
          "Italy, France",
          "United States, Czech Republic",
          "United States, United Kingdom, Australia",
          "Vietnam",
          "Romania",
          "United States, Italy",
          "United Kingdom, United States, Spain, Germany, Greece, Canada",
          "India, France",
          "France, United States",
          "United Arab Emirates",
          "United Kingdom, Japan, United States",
          "France, Canada",
          "Israel, United States",
          "United States, Sweden",
          "United Kingdom, Germany",
          "Italy, United States",
          "South Africa, United States",
          "Canada, United Kingdom, United States",
          "Belgium, France",
          "United Kingdom, France, United States",
          "United States, Spain",
          "Hong Kong, United States",
          "India, Turkey",
          "United Kingdom, Canada",
          "United States, New Zealand",
          "United States, United Arab Emirates",
          "United States, United Kingdom, France",
          "Sweden, United States",
          "Australia, United Arab Emirates",
          "Austria",
          "United States, South Africa",
          "Poland, United States",
          "Bulgaria, United States",
          "Iceland",
          "Singapore, United States",
          "Canada, United Kingdom",
          "Bangladesh",
          "Germany, United States, Canada",
          "Spain, Argentina",
          "United Kingdom, India",
          "Canada, Australia",
          "United States, Chile",
          "United States, Hong Kong",
          "New Zealand, United States",
          "United States, United Kingdom, Canada",
          "United States, United Kingdom, Germany",
          "Czech Republic, United States",
          "United States, Brazil, South Korea, Mexico, Japan, Germany",
          "Canada, India",
          "Denmark, United States",
          "India, Soviet Union",
          "United Kingdom, France, Belgium",
          "Indonesia, Singapore",
          "France, South Korea, Japan",
          "Germany, Australia",
          "Uruguay",
          "United Arab Emirates, United States",
          "Brazil, France",
          "Australia, Canada",
          "Switzerland, United States",
          "United States, Japan, Canada",
          "Ukraine",
          "Ireland, United Kingdom, United States",
          "India, Germany",
          "United States, Bulgaria",
          "United States, Ireland",
          "Argentina, Italy",
          "Mexico, Spain",
          "Spain, Mexico",
          "United Kingdom, India, United States",
          "Belgium, Netherlands",
          "United Kingdom, Ireland",
          "United States, Germany, United Kingdom",
          "United States, Germany, Canada",
          "Canada, United States, United Kingdom",
          "Hungary",
          "Switzerland",
          "United States, South Korea, China",
          "Germany, United Kingdom",
          "Colombia, Mexico, United States",
          "Argentina, France",
          "United Kingdom, Italy, Argentina, United States",
          "Denmark, Indonesia, Finland, Norway, United Kingdom, Israel, France, United States, Germany, Netherlands",
          "United States, Israel, Italy, South Africa",
          "United Kingdom, Egypt, United States",
          "Uruguay, Argentina, Spain",
          "Thailand, Canada, United States",
          "Ireland, Canada, United States, United Kingdom",
          "Denmark, Germany, Belgium, United Kingdom, France",
          "Ireland, United Kingdom, Italy, United States",
          "France, Poland",
          "Philippines, Qatar",
          "New Zealand, United Kingdom",
          "Chile, Argentina, France, Spain, United States",
          "Turkey, United States",
          "Indonesia, South Korea, Singapore",
          "Norway, Denmark, Sweden",
          "Philippines, Singapore",
          "United States, France, United Kingdom, Japan",
          "United Arab Emirates, Romania",
          "Singapore, Malaysia",
          "Germany, France, Russia",
          "India, Malaysia",
          "United Kingdom, Namibia, South Africa, Zimbabwe, United States",
          "United States, Netherlands, Japan, France",
          "United States, Israel, United Kingdom, Canada",
          "Ghana",
          "Chile, Argentina",
          "United Kingdom, Italy, Israel, Peru, United States",
          "Argentina, Chile, Peru",
          "Denmark, Zimbabwe",
          "South Africa, China, United States",
          "Ireland, Canada, United Kingdom, United States",
          "United Kingdom, Malawi",
          "Thailand, United States",
          "Canada, India, Thailand, United States, United Arab Emirates",
          "France, Belgium, Spain",
          "China, Germany, India, United States",
          "Colombia, Mexico",
          "United Kingdom, United States, Australia",
          "Cambodia",
          "United States, Denmark",
          "France, Germany",
          "Australia, Iraq",
          "India, Mexico",
          "Australia, United Kingdom, Canada",
          "Cyprus, Austria, Thailand",
          "Ireland, South Africa",
          "United Kingdom, Belgium, Sweden",
          "Belgium, India, Australia",
          "United States, Australia, China",
          "Croatia",
          "United States, United Kingdom, France, Germany, Japan",
          "United States, France, Canada, Spain",
          "Netherlands, Belgium, United Kingdom, United States",
          "Chile, Spain, Argentina, Germany",
          "Slovenia, Croatia, Germany, Czech Republic, Qatar",
          "United Kingdom, France, Belgium, United States",
          "Czech Republic, Slovakia",
          "Spain, Mexico, France",
          "Thailand, China, United States",
          "Italy, India",
          "France, Netherlands, South Africa, Finland",
          "China, Taiwan",
          "Argentina, United States",
          "Canada, United Kingdom, Netherlands",
          "Czech Republic, France",
          "Ghana, United States",
          "Peru, United States, United Kingdom",
          "Guatemala",
          "Taiwan, China, France, United States",
          "Canada, France",
          "Germany, France, Luxembourg, United Kingdom, United States",
          "United States, India, Bangladesh",
          "Argentina, Brazil, France, Poland, Germany, Denmark",
          "Brazil, India, China, United States",
          "Pakistan, Norway, United States",
          "Canada, Japan, Netherlands",
          "United States, East Germany, West Germany",
          "United Kingdom, Jordan, Qatar, Iran",
          "Paraguay, Argentina",
          "Egypt, Austria, United States",
          "United Kingdom, Spain, Belgium",
          "Serbia, South Korea, Slovenia",
          "Spain, United Kingdom, United States",
          "Israel, Germany, France",
          "Spain, France, Italy",
          "China, United States, United Kingdom",
          "Germany, United Kingdom, United States",
          "Brazil, Canada",
          "Canada, Ireland, United States",
          "Australia, United Kingdom",
          "Norway, Iceland, United States",
          "France, Qatar",
          "United States, Nicaragua",
          "Canada, Norway",
          "United Kingdom, Pakistan",
          "United States, India, United Arab Emirates",
          "United States, France, Canada",
          "Germany, United States, United Kingdom, Canada",
          "Mexico, Netherlands",
          "Bulgaria, United States, Spain, Canada",
          "Finland, Germany",
          "United States, United Kingdom, Spain, South Korea",
          "Canada, Germany, South Africa",
          "United States, Venezuela",
          "Denmark, Singapore, Canada, United States",
          "China, Morocco, Hong Kong",
          "France, Luxembourg, Canada",
          "United States, Spain, Colombia, Mexico",
          "Italy, Germany",
          "Germany, United States, Sweden",
          "Netherlands, Belgium",
          "India, Japan",
          "United States, New Zealand, Japan",
          "United States, Hungary",
          "Egypt, France",
          "Spain, Portugal",
          "Israel, Germany",
          "Sweden, United Kingdom, Finland",
          "Poland, West Germany",
          "Czech Republic, United Kingdom, France",
          "United States, United Kingdom, Morocco",
          "Denmark, France, United States, Sweden",
          "Croatia, Slovenia, Serbia, Montenegro",
          "India, Australia",
          "United Kingdom, United States, Czech Republic",
          "Singapore, France",
          "Denmark, France, Poland",
          "Russia, United States",
          "France, Luxembourg, United States",
          "Denmark, France, Italy, Belgium, Netherlands",
          "Ireland, Canada",
          "United States, Canada, Belgium, United Kingdom",
          "United Kingdom, Spain, United States, Germany",
          "United States, Canada, Germany",
          "Lebanon, Jordan",
          "United States, Iceland",
          "United States, United Kingdom, Denmark, Sweden",
          "Portugal, Spain",
          "Cambodia, United States",
          "China, Hong Kong, United States",
          "Somalia, Kenya, Sudan, South Africa, United States",
          "Italy, Switzerland, Albania, Poland",
          "Switzerland, United Kingdom, United States",
          "United States, Canada, France",
          "United States, Greece, Brazil",
          "Mauritius, South Africa",
          "Denmark, Brazil, France, Portugal, Sweden",
          "Denmark, United Kingdom, South Africa, Sweden, Belgium",
          "Saudi Arabia, Syria, Egypt, Lebanon, Kuwait",
          "Brazil, United States",
          "United States, Spain, Germany",
          "France, China, Japan, United States",
          "India, Germany, Austria",
          "France, United States, Mexico",
          "United Kingdom, United States, Russia",
          "Pakistan, United States",
          "Israel, Sweden, Germany, Netherlands",
          "United States, Kazakhstan",
          "South Korea, France",
          "Colombia, United States",
          "Argentina, Uruguay, Spain, France",
          "Netherlands, Germany, Italy, Canada",
          "United Kingdom, Germany, United States",
          "United States, Senegal",
          "Australia, Armenia, Japan, Jordan, Mexico, Mongolia, New Zealand, Philippines, South Africa, Sweden, United States, Uruguay",
          "Soviet Union, India",
          "United Kingdom, Israel, Russia",
          "Bulgaria",
          "France, Germany, Switzerland",
          "South Korea, China, United States",
          "Belgium, Luxembourg, France",
          "Finland",
          "United Kingdom, South Korea",
          "United States, Mexico, Colombia",
          "Italy, Belgium, France",
          "United Kingdom, United States, Morocco",
          "United Kingdom, Brazil, Germany",
          "United States, Canada, Ireland",
          "Dominican Republic",
          "Spain, Belgium",
          "China, India, Nepal",
          "France, Morocco",
          "Austria, Iraq, United States",
          "Argentina, France, Germany",
          "United States, Russia",
          "Australia, New Zealand",
          "China, United States, Australia",
          "Spain, Cuba",
          "Germany, Italy",
          "Spain, United Kingdom",
          "Finland, France",
          "United States, Spain, Italy",
          "China, South Korea, United States",
          "Italy, South Africa, West Germany, Australia, United States",
          "Mexico, Finland",
          "United Kingdom, United States, Greece, Italy, Germany",
          "Australia, France",
          "Malaysia, Singapore, Hong Kong",
          "Norway, United Kingdom, France, Ireland",
          "France, Senegal, Belgium",
          "Spain, Switzerland",
          "Switzerland, Vatican City, Italy, Germany, France",
          "Netherlands, Denmark, South Africa",
          "United Arab Emirates, United States, United Kingdom",
          "Indonesia, United States",
          "Canada, Japan, United States",
          "United States, Malta, United Kingdom",
          "Brazil, France, Germany",
          "Austria, United States",
          "Austria, Czech Republic",
          "Japan, Canada, South Korea",
          "United Kingdom, South Africa, Australia, United States",
          "Singapore, Japan, France",
          "India, United Kingdom",
          "France, Netherlands, Singapore",
          "Canada, France, Italy, Morocco, United States",
          "China, Japan",
          "United States, India, South Korea, China",
          "Venezuela",
          "China, Canada, United States",
          "Ireland, United Kingdom, Greece, France, Netherlands",
          "Canada, Brazil",
          "United Kingdom, Thailand",
          "Belgium, Ireland, Netherlands, Germany, Afghanistan",
          "United States, Italy, United Kingdom, Liechtenstein",
          "United States, Germany, Australia",
          "Denmark, Sweden, Israel, United States",
          "India, Switzerland",
          "France, Iran, United States",
          "United Kingdom, Australia, Canada, United States",
          "Italy, Turkey",
          "Turkey, Azerbaijan",
          "United Kingdom, United States, Germany, Denmark, Belgium, Japan",
          "Pakistan, United Arab Emirates",
          "Brazil, Netherlands, United States, Colombia, Austria, Germany",
          "India, Canada",
          "Hong Kong, China, United States",
          "South Africa, United States, New Zealand, Canada",
          "Venezuela, Colombia",
          "Iran, France",
          "United Kingdom, New Zealand",
          "Chile, Peru",
          "United Kingdom, Canada, Italy",
          "Finland, Germany, Belgium",
          "United Kingdom, Singapore",
          "Hong Kong, Taiwan",
          "United States, United Kingdom, Canada, Japan",
          "Romania, Bulgaria, Hungary",
          "United States, India, Malaysia, Taiwan, Canada, United Kingdom",
          "United Kingdom, India, Sweden",
          "United Kingdom, China, Canada, Indonesia, Singapore, United States",
          "Denmark, United Kingdom",
          "Canada, United States, France",
          "Italy, Switzerland, France, Germany",
          "Saudi Arabia",
          "Canada, Germany, France, United States",
          "Spain, Belgium, Switzerland, United States, China, United Kingdom",
          "France, China, Canada",
          "Hong Kong, China, Singapore",
          "Canada, Spain",
          "India, Germany, France",
          "United Kingdom, United States, France, Germany",
          "Denmark, Germany, Belgium, United Kingdom, France, Sweden",
          "United Kingdom, Canada, United States, Cayman Islands",
          "Italy, United Kingdom, France",
          "United States, Uruguay",
          "Chile, United States, France",
          "United States, United Kingdom, Italy",
          "France, Japan",
          "Norway, Denmark, Netherlands, Sweden",
          "United Kingdom, Hong Kong",
          "France, Canada, Belgium",
          "Spain, Italy, Argentina",
          "France, Switzerland, Spain, United States, United Arab Emirates",
          "Germany, Sri Lanka",
          "United States, Bermuda, Ecuador",
          "China, United Kingdom",
          "United Kingdom, Canada, France, United States",
          "United Arab Emirates, Jordan",
          "United Arab Emirates, United Kingdom, India",
          "Russia, Poland, Serbia",
          "Netherlands, United States",
          "Georgia, Germany, France",
          "Denmark, Spain",
          "United States, Hungary, Ireland, Canada",
          "Germany, France, United States, Canada, United Kingdom",
          "United Kingdom, Poland",
          "United States, Germany, United Kingdom, Italy",
          "United Kingdom, Denmark, Canada, Croatia",
          "Australia, India",
          "West Germany",
          "Serbia, United States",
          "Argentina, United States, Mexico",
          "France, Germany, Czech Republic, Belgium",
          "Lebanon, Qatar",
          "United States, France, Mexico",
          "France, United Kingdom",
          "India, Nepal",
          "United States, Australia, Samoa, United Kingdom",
          "United Kingdom, Italy, France, United States",
          "South Africa, United States, Germany",
          "Russia, Spain",
          "Spain, Colombia",
          "India, Iran",
          "Norway, Germany, Sweden",
          "Canada, France, United States",
          "United States, Colombia, Mexico",
          "United Kingdom, France, Germany",
          "Australia, New Zealand, United States",
          "Germany, Jordan, Netherlands",
          "Spain, Germany",
          "Canada, Mexico, Germany, South Africa",
          "Australia, United Kingdom, United Arab Emirates, Canada",
          "United Kingdom, China, United States",
          "United States, China, Hong Kong",
          "Italy, France, Switzerland",
          "Iceland, Sweden, Belgium",
          "Germany, Canada, United States",
          "Italy, United States, Argentina",
          "South Korea, Czech Republic",
          "United States, Spain, Chile, Peru",
          "Uruguay, Spain, Mexico",
          "India, Pakistan",
          "United Kingdom, France, Canada, Belgium, United States",
          "Spain, France, Uruguay",
          "Denmark, China",
          "Argentina, Chile",
          "Finland, Sweden, Norway, Latvia, Germany",
          "Germany, United States, Hong Kong, Singapore",
          "United Kingdom, Russia",
          "United States, France, Canada, Lebanon, Qatar",
          "Canada, Spain, France",
          "Norway, Sweden",
          "United Kingdom, Canada, Japan",
          "Germany, United States, Italy",
          "United States, Cambodia",
          "United States, Mexico, Spain, Malta",
          "Poland,",
          "United States, Canada, Japan, Panama",
          "United States, France, South Korea, Indonesia",
          "United States, Brazil, India, Uganda, China",
          "Chile, France",
          "United States, Argentina",
          "United States, Australia, Mexico",
          "United Kingdom, Poland, United States",
          "United Kingdom, Germany, Canada, United States",
          "Belgium, United Kingdom, United States",
          "United States, Czech Republic, United Kingdom",
          "Italy, Canada, France",
          "United States, Colombia",
          "Turkey, India",
          "United States, Ireland, United Kingdom",
          "New Zealand, United Kingdom, Australia",
          "France, United Kingdom, United States",
          "United Kingdom, South Africa",
          "Georgia",
          "France, Belgium, China, United States",
          "Turkey, France, Germany, Poland",
          "United Kingdom, Ukraine, United States",
          "United States,",
          "France, United Kingdom, India",
          "Netherlands, Belgium, Germany, Jordan",
          "United Kingdom, France, Germany, Spain",
          "United States, Canada, United Kingdom",
          "India, United Kingdom, Canada, United States",
          "United Kingdom,",
          "South Korea, Canada, United States, China",
          "Canada, United States, India, United Kingdom",
          "United Kingdom, Norway, Denmark, Germany, Sweden",
          "United States, Taiwan",
          "United Kingdom, Germany, Canada",
          "Argentina, Uruguay, Serbia",
          "Israel, Germany, Poland, Luxembourg, Belgium, France, United States",
          "United Kingdom, West Germany",
          "Canada, Luxembourg",
          "United States, Greece, United Kingdom",
          "United States, Australia, South Africa, United Kingdom",
          "United States, Indonesia",
          "United States, Brazil",
          "Mexico, France",
          "Netherlands, Denmark, France, Germany",
          "United States, South Korea, Japan",
          "United States, Morocco",
          "Norway, United States",
          "Germany, Belgium",
          "Australia, France, Ireland",
          "Mexico, Argentina",
          "South Africa, Germany, Netherlands, France",
          "Ireland, United Kingdom",
          "Sweden, Netherlands",
          "China, United States",
          "Japan, Canada",
          "United States, New Zealand, United Kingdom",
          "Taiwan, Hong Kong, United States, China",
          "Ireland, Canada, Luxembourg, United States",
          "France, United States, Canada",
          "United States, South Korea",
          "United States, Botswana",
          "Norway, Germany",
          "United Kingdom, United States, Dominican Republic",
          "Australia, United Kingdom, United States, New Zealand, Italy, France",
          "Switzerland, France",
          "United States, France, Italy, United Kingdom",
          "United States, Germany, Mexico",
          "Portugal, France, Poland, United States",
          "Ireland, United States, France"
         ],
         "name": "",
         "showlegend": true,
         "showscale": false,
         "type": "choropleth",
         "z": [
          1,
          1,
          1,
          1,
          1,
          1,
          1,
          1,
          1,
          1,
          1,
          1,
          1,
          1,
          1,
          1,
          1,
          1,
          1,
          1,
          1,
          1,
          1,
          1,
          1,
          1,
          1,
          1,
          1,
          1,
          1,
          1,
          1,
          1,
          1,
          1,
          1,
          1,
          1,
          1,
          1,
          1,
          1,
          1,
          1,
          1,
          1,
          1,
          1,
          1,
          1,
          1,
          1,
          1,
          1,
          1,
          1,
          1,
          1,
          1,
          1,
          1,
          1,
          1,
          1,
          1,
          1,
          1,
          1,
          1,
          1,
          1,
          1,
          1,
          1,
          1,
          1,
          1,
          1,
          1,
          1,
          1,
          1,
          1,
          1,
          1,
          1,
          1,
          1,
          1,
          1,
          1,
          1,
          1,
          1,
          1,
          1,
          1,
          1,
          1,
          1,
          1,
          1,
          1,
          1,
          1,
          1,
          1,
          1,
          1,
          1,
          1,
          1,
          1,
          1,
          1,
          1,
          1,
          1,
          1,
          1,
          1,
          1,
          1,
          1,
          1,
          1,
          1,
          1,
          1,
          1,
          1,
          1,
          1,
          1,
          1,
          1,
          1,
          1,
          1,
          1,
          1,
          1,
          1,
          1,
          1,
          1,
          1,
          1,
          1,
          1,
          1,
          1,
          1,
          1,
          1,
          1,
          1,
          1,
          1,
          1,
          1,
          1,
          1,
          1,
          1,
          1,
          1,
          1,
          1,
          1,
          1,
          1,
          1,
          1,
          1,
          1,
          1,
          1,
          1,
          1,
          1,
          1,
          1,
          1,
          1,
          1,
          1,
          1,
          1,
          1,
          1,
          1,
          1,
          1,
          1,
          1,
          1,
          1,
          1,
          1,
          1,
          1,
          1,
          1,
          1,
          1,
          1,
          1,
          1,
          1,
          1,
          1,
          1,
          1,
          1,
          1,
          1,
          1,
          1,
          1,
          1,
          1,
          1,
          1,
          1,
          1,
          1,
          1,
          1,
          1,
          1,
          1,
          1,
          1,
          1,
          1,
          1,
          1,
          1,
          1,
          1,
          1,
          1,
          1,
          1,
          1,
          1,
          1,
          1,
          1,
          1,
          1,
          1,
          1,
          1,
          1,
          1,
          1,
          1,
          1,
          1,
          1,
          1,
          1,
          1,
          1,
          1,
          1,
          1,
          1,
          1,
          1,
          1,
          1,
          1,
          1,
          1,
          1,
          1,
          1,
          1,
          1,
          1,
          1,
          1,
          1,
          1,
          1,
          1,
          1,
          1,
          1,
          1,
          1,
          1,
          1,
          1,
          1,
          1,
          1,
          1,
          1,
          1,
          1,
          1,
          1,
          1,
          1,
          1,
          1,
          1,
          1,
          1,
          1,
          1,
          1,
          1,
          1,
          1,
          1,
          1,
          1,
          1,
          1,
          1,
          1,
          1,
          1,
          1,
          1,
          1,
          1,
          1,
          1,
          1,
          1,
          1,
          1,
          1,
          1,
          1,
          1,
          1,
          1,
          1,
          1,
          1,
          1,
          1,
          1,
          1,
          1,
          1,
          1,
          1,
          1,
          1,
          1,
          1,
          1,
          1,
          1,
          1,
          1,
          1,
          1,
          1,
          1,
          1,
          1,
          1,
          1,
          1,
          1,
          1,
          1,
          1,
          1,
          1,
          1,
          1,
          1,
          1,
          1,
          1,
          1,
          1,
          1,
          1,
          1,
          1,
          1,
          1,
          1,
          1,
          1,
          1,
          1,
          1,
          1,
          1,
          1,
          1,
          1,
          1,
          1,
          1,
          1,
          1,
          1,
          1,
          1,
          1,
          1,
          1,
          1,
          1,
          1,
          1,
          1,
          1,
          1,
          1,
          1,
          1,
          1,
          1,
          1,
          1,
          1,
          1,
          1,
          1,
          1,
          1,
          1,
          1,
          1,
          1,
          1,
          1,
          1,
          1,
          1,
          1,
          1,
          1,
          1,
          1,
          1,
          1,
          1,
          1,
          1,
          1,
          1,
          1,
          1,
          1,
          1,
          1,
          1,
          1,
          1,
          1,
          1,
          1,
          1,
          1,
          1,
          1,
          1,
          1,
          1,
          1,
          1,
          1,
          1,
          1,
          1,
          1,
          1,
          1,
          1,
          1,
          1,
          1,
          1,
          1,
          1,
          1,
          1,
          1,
          1,
          1,
          1,
          1,
          1,
          1,
          1,
          1,
          1,
          1,
          1,
          1,
          1,
          1,
          1,
          1,
          1,
          1,
          1,
          1,
          1,
          1,
          1,
          1,
          1,
          1,
          1,
          1,
          1,
          1,
          1,
          1,
          1,
          1,
          1,
          1,
          1,
          1,
          1,
          1,
          1,
          1,
          1,
          1,
          1,
          1,
          1,
          1,
          1,
          1,
          1,
          1,
          1,
          1,
          1,
          1,
          1,
          1,
          1,
          1
         ]
        }
       ],
       "layout": {
        "geo": {
         "center": {},
         "domain": {
          "x": [
           0,
           1
          ],
          "y": [
           0,
           1
          ]
         }
        },
        "legend": {
         "tracegroupgap": 0
        },
        "margin": {
         "t": 60
        },
        "template": {
         "data": {
          "bar": [
           {
            "error_x": {
             "color": "#2a3f5f"
            },
            "error_y": {
             "color": "#2a3f5f"
            },
            "marker": {
             "line": {
              "color": "#E5ECF6",
              "width": 0.5
             }
            },
            "type": "bar"
           }
          ],
          "barpolar": [
           {
            "marker": {
             "line": {
              "color": "#E5ECF6",
              "width": 0.5
             }
            },
            "type": "barpolar"
           }
          ],
          "carpet": [
           {
            "aaxis": {
             "endlinecolor": "#2a3f5f",
             "gridcolor": "white",
             "linecolor": "white",
             "minorgridcolor": "white",
             "startlinecolor": "#2a3f5f"
            },
            "baxis": {
             "endlinecolor": "#2a3f5f",
             "gridcolor": "white",
             "linecolor": "white",
             "minorgridcolor": "white",
             "startlinecolor": "#2a3f5f"
            },
            "type": "carpet"
           }
          ],
          "choropleth": [
           {
            "colorbar": {
             "outlinewidth": 0,
             "ticks": ""
            },
            "type": "choropleth"
           }
          ],
          "contour": [
           {
            "colorbar": {
             "outlinewidth": 0,
             "ticks": ""
            },
            "colorscale": [
             [
              0,
              "#0d0887"
             ],
             [
              0.1111111111111111,
              "#46039f"
             ],
             [
              0.2222222222222222,
              "#7201a8"
             ],
             [
              0.3333333333333333,
              "#9c179e"
             ],
             [
              0.4444444444444444,
              "#bd3786"
             ],
             [
              0.5555555555555556,
              "#d8576b"
             ],
             [
              0.6666666666666666,
              "#ed7953"
             ],
             [
              0.7777777777777778,
              "#fb9f3a"
             ],
             [
              0.8888888888888888,
              "#fdca26"
             ],
             [
              1,
              "#f0f921"
             ]
            ],
            "type": "contour"
           }
          ],
          "contourcarpet": [
           {
            "colorbar": {
             "outlinewidth": 0,
             "ticks": ""
            },
            "type": "contourcarpet"
           }
          ],
          "heatmap": [
           {
            "colorbar": {
             "outlinewidth": 0,
             "ticks": ""
            },
            "colorscale": [
             [
              0,
              "#0d0887"
             ],
             [
              0.1111111111111111,
              "#46039f"
             ],
             [
              0.2222222222222222,
              "#7201a8"
             ],
             [
              0.3333333333333333,
              "#9c179e"
             ],
             [
              0.4444444444444444,
              "#bd3786"
             ],
             [
              0.5555555555555556,
              "#d8576b"
             ],
             [
              0.6666666666666666,
              "#ed7953"
             ],
             [
              0.7777777777777778,
              "#fb9f3a"
             ],
             [
              0.8888888888888888,
              "#fdca26"
             ],
             [
              1,
              "#f0f921"
             ]
            ],
            "type": "heatmap"
           }
          ],
          "heatmapgl": [
           {
            "colorbar": {
             "outlinewidth": 0,
             "ticks": ""
            },
            "colorscale": [
             [
              0,
              "#0d0887"
             ],
             [
              0.1111111111111111,
              "#46039f"
             ],
             [
              0.2222222222222222,
              "#7201a8"
             ],
             [
              0.3333333333333333,
              "#9c179e"
             ],
             [
              0.4444444444444444,
              "#bd3786"
             ],
             [
              0.5555555555555556,
              "#d8576b"
             ],
             [
              0.6666666666666666,
              "#ed7953"
             ],
             [
              0.7777777777777778,
              "#fb9f3a"
             ],
             [
              0.8888888888888888,
              "#fdca26"
             ],
             [
              1,
              "#f0f921"
             ]
            ],
            "type": "heatmapgl"
           }
          ],
          "histogram": [
           {
            "marker": {
             "colorbar": {
              "outlinewidth": 0,
              "ticks": ""
             }
            },
            "type": "histogram"
           }
          ],
          "histogram2d": [
           {
            "colorbar": {
             "outlinewidth": 0,
             "ticks": ""
            },
            "colorscale": [
             [
              0,
              "#0d0887"
             ],
             [
              0.1111111111111111,
              "#46039f"
             ],
             [
              0.2222222222222222,
              "#7201a8"
             ],
             [
              0.3333333333333333,
              "#9c179e"
             ],
             [
              0.4444444444444444,
              "#bd3786"
             ],
             [
              0.5555555555555556,
              "#d8576b"
             ],
             [
              0.6666666666666666,
              "#ed7953"
             ],
             [
              0.7777777777777778,
              "#fb9f3a"
             ],
             [
              0.8888888888888888,
              "#fdca26"
             ],
             [
              1,
              "#f0f921"
             ]
            ],
            "type": "histogram2d"
           }
          ],
          "histogram2dcontour": [
           {
            "colorbar": {
             "outlinewidth": 0,
             "ticks": ""
            },
            "colorscale": [
             [
              0,
              "#0d0887"
             ],
             [
              0.1111111111111111,
              "#46039f"
             ],
             [
              0.2222222222222222,
              "#7201a8"
             ],
             [
              0.3333333333333333,
              "#9c179e"
             ],
             [
              0.4444444444444444,
              "#bd3786"
             ],
             [
              0.5555555555555556,
              "#d8576b"
             ],
             [
              0.6666666666666666,
              "#ed7953"
             ],
             [
              0.7777777777777778,
              "#fb9f3a"
             ],
             [
              0.8888888888888888,
              "#fdca26"
             ],
             [
              1,
              "#f0f921"
             ]
            ],
            "type": "histogram2dcontour"
           }
          ],
          "mesh3d": [
           {
            "colorbar": {
             "outlinewidth": 0,
             "ticks": ""
            },
            "type": "mesh3d"
           }
          ],
          "parcoords": [
           {
            "line": {
             "colorbar": {
              "outlinewidth": 0,
              "ticks": ""
             }
            },
            "type": "parcoords"
           }
          ],
          "pie": [
           {
            "automargin": true,
            "type": "pie"
           }
          ],
          "scatter": [
           {
            "marker": {
             "colorbar": {
              "outlinewidth": 0,
              "ticks": ""
             }
            },
            "type": "scatter"
           }
          ],
          "scatter3d": [
           {
            "line": {
             "colorbar": {
              "outlinewidth": 0,
              "ticks": ""
             }
            },
            "marker": {
             "colorbar": {
              "outlinewidth": 0,
              "ticks": ""
             }
            },
            "type": "scatter3d"
           }
          ],
          "scattercarpet": [
           {
            "marker": {
             "colorbar": {
              "outlinewidth": 0,
              "ticks": ""
             }
            },
            "type": "scattercarpet"
           }
          ],
          "scattergeo": [
           {
            "marker": {
             "colorbar": {
              "outlinewidth": 0,
              "ticks": ""
             }
            },
            "type": "scattergeo"
           }
          ],
          "scattergl": [
           {
            "marker": {
             "colorbar": {
              "outlinewidth": 0,
              "ticks": ""
             }
            },
            "type": "scattergl"
           }
          ],
          "scattermapbox": [
           {
            "marker": {
             "colorbar": {
              "outlinewidth": 0,
              "ticks": ""
             }
            },
            "type": "scattermapbox"
           }
          ],
          "scatterpolar": [
           {
            "marker": {
             "colorbar": {
              "outlinewidth": 0,
              "ticks": ""
             }
            },
            "type": "scatterpolar"
           }
          ],
          "scatterpolargl": [
           {
            "marker": {
             "colorbar": {
              "outlinewidth": 0,
              "ticks": ""
             }
            },
            "type": "scatterpolargl"
           }
          ],
          "scatterternary": [
           {
            "marker": {
             "colorbar": {
              "outlinewidth": 0,
              "ticks": ""
             }
            },
            "type": "scatterternary"
           }
          ],
          "surface": [
           {
            "colorbar": {
             "outlinewidth": 0,
             "ticks": ""
            },
            "colorscale": [
             [
              0,
              "#0d0887"
             ],
             [
              0.1111111111111111,
              "#46039f"
             ],
             [
              0.2222222222222222,
              "#7201a8"
             ],
             [
              0.3333333333333333,
              "#9c179e"
             ],
             [
              0.4444444444444444,
              "#bd3786"
             ],
             [
              0.5555555555555556,
              "#d8576b"
             ],
             [
              0.6666666666666666,
              "#ed7953"
             ],
             [
              0.7777777777777778,
              "#fb9f3a"
             ],
             [
              0.8888888888888888,
              "#fdca26"
             ],
             [
              1,
              "#f0f921"
             ]
            ],
            "type": "surface"
           }
          ],
          "table": [
           {
            "cells": {
             "fill": {
              "color": "#EBF0F8"
             },
             "line": {
              "color": "white"
             }
            },
            "header": {
             "fill": {
              "color": "#C8D4E3"
             },
             "line": {
              "color": "white"
             }
            },
            "type": "table"
           }
          ]
         },
         "layout": {
          "annotationdefaults": {
           "arrowcolor": "#2a3f5f",
           "arrowhead": 0,
           "arrowwidth": 1
          },
          "coloraxis": {
           "colorbar": {
            "outlinewidth": 0,
            "ticks": ""
           }
          },
          "colorscale": {
           "diverging": [
            [
             0,
             "#8e0152"
            ],
            [
             0.1,
             "#c51b7d"
            ],
            [
             0.2,
             "#de77ae"
            ],
            [
             0.3,
             "#f1b6da"
            ],
            [
             0.4,
             "#fde0ef"
            ],
            [
             0.5,
             "#f7f7f7"
            ],
            [
             0.6,
             "#e6f5d0"
            ],
            [
             0.7,
             "#b8e186"
            ],
            [
             0.8,
             "#7fbc41"
            ],
            [
             0.9,
             "#4d9221"
            ],
            [
             1,
             "#276419"
            ]
           ],
           "sequential": [
            [
             0,
             "#0d0887"
            ],
            [
             0.1111111111111111,
             "#46039f"
            ],
            [
             0.2222222222222222,
             "#7201a8"
            ],
            [
             0.3333333333333333,
             "#9c179e"
            ],
            [
             0.4444444444444444,
             "#bd3786"
            ],
            [
             0.5555555555555556,
             "#d8576b"
            ],
            [
             0.6666666666666666,
             "#ed7953"
            ],
            [
             0.7777777777777778,
             "#fb9f3a"
            ],
            [
             0.8888888888888888,
             "#fdca26"
            ],
            [
             1,
             "#f0f921"
            ]
           ],
           "sequentialminus": [
            [
             0,
             "#0d0887"
            ],
            [
             0.1111111111111111,
             "#46039f"
            ],
            [
             0.2222222222222222,
             "#7201a8"
            ],
            [
             0.3333333333333333,
             "#9c179e"
            ],
            [
             0.4444444444444444,
             "#bd3786"
            ],
            [
             0.5555555555555556,
             "#d8576b"
            ],
            [
             0.6666666666666666,
             "#ed7953"
            ],
            [
             0.7777777777777778,
             "#fb9f3a"
            ],
            [
             0.8888888888888888,
             "#fdca26"
            ],
            [
             1,
             "#f0f921"
            ]
           ]
          },
          "colorway": [
           "#636efa",
           "#EF553B",
           "#00cc96",
           "#ab63fa",
           "#FFA15A",
           "#19d3f3",
           "#FF6692",
           "#B6E880",
           "#FF97FF",
           "#FECB52"
          ],
          "font": {
           "color": "#2a3f5f"
          },
          "geo": {
           "bgcolor": "white",
           "lakecolor": "white",
           "landcolor": "#E5ECF6",
           "showlakes": true,
           "showland": true,
           "subunitcolor": "white"
          },
          "hoverlabel": {
           "align": "left"
          },
          "hovermode": "closest",
          "mapbox": {
           "style": "light"
          },
          "paper_bgcolor": "white",
          "plot_bgcolor": "#E5ECF6",
          "polar": {
           "angularaxis": {
            "gridcolor": "white",
            "linecolor": "white",
            "ticks": ""
           },
           "bgcolor": "#E5ECF6",
           "radialaxis": {
            "gridcolor": "white",
            "linecolor": "white",
            "ticks": ""
           }
          },
          "scene": {
           "xaxis": {
            "backgroundcolor": "#E5ECF6",
            "gridcolor": "white",
            "gridwidth": 2,
            "linecolor": "white",
            "showbackground": true,
            "ticks": "",
            "zerolinecolor": "white"
           },
           "yaxis": {
            "backgroundcolor": "#E5ECF6",
            "gridcolor": "white",
            "gridwidth": 2,
            "linecolor": "white",
            "showbackground": true,
            "ticks": "",
            "zerolinecolor": "white"
           },
           "zaxis": {
            "backgroundcolor": "#E5ECF6",
            "gridcolor": "white",
            "gridwidth": 2,
            "linecolor": "white",
            "showbackground": true,
            "ticks": "",
            "zerolinecolor": "white"
           }
          },
          "shapedefaults": {
           "line": {
            "color": "#2a3f5f"
           }
          },
          "ternary": {
           "aaxis": {
            "gridcolor": "white",
            "linecolor": "white",
            "ticks": ""
           },
           "baxis": {
            "gridcolor": "white",
            "linecolor": "white",
            "ticks": ""
           },
           "bgcolor": "#E5ECF6",
           "caxis": {
            "gridcolor": "white",
            "linecolor": "white",
            "ticks": ""
           }
          },
          "title": {
           "x": 0.05
          },
          "xaxis": {
           "automargin": true,
           "gridcolor": "white",
           "linecolor": "white",
           "ticks": "",
           "title": {
            "standoff": 15
           },
           "zerolinecolor": "white",
           "zerolinewidth": 2
          },
          "yaxis": {
           "automargin": true,
           "gridcolor": "white",
           "linecolor": "white",
           "ticks": "",
           "title": {
            "standoff": 15
           },
           "zerolinecolor": "white",
           "zerolinewidth": 2
          }
         }
        }
       }
      },
      "text/html": [
       "<div>                            <div id=\"064e769a-7be6-47eb-8a43-48c0fc946997\" class=\"plotly-graph-div\" style=\"height:525px; width:100%;\"></div>            <script type=\"text/javascript\">                require([\"plotly\"], function(Plotly) {                    window.PLOTLYENV=window.PLOTLYENV || {};                                    if (document.getElementById(\"064e769a-7be6-47eb-8a43-48c0fc946997\")) {                    Plotly.newPlot(                        \"064e769a-7be6-47eb-8a43-48c0fc946997\",                        [{\"colorscale\": [[0.0, \"#636efa\"], [1.0, \"#636efa\"]], \"featureidkey\": \"Country.country\", \"geo\": \"geo\", \"hovertemplate\": \"locations=%{location}<extra></extra>\", \"locationmode\": \"country names\", \"locations\": [\"United States\", \"India\", \"United Kingdom\", \"Japan\", \"Canada\", \"South Korea\", \"Spain\", \"France\", \"Mexico\", \"Turkey\", \"Australia\", \"Taiwan\", \"Hong Kong\", \"Thailand\", \"Egypt\", \"Brazil\", \"United Kingdom, United States\", \"China\", \"Indonesia\", \"Philippines\", \"Germany\", \"United States, Canada\", \"Argentina\", \"Nigeria\", \"Canada, United States\", \"United States, United Kingdom\", \"Colombia\", \"France, Belgium\", \"Italy\", \"Pakistan\", \"Malaysia\", \"Hong Kong, China\", \"China, Hong Kong\", \"Singapore\", \"United States, Japan\", \"United States, Germany\", \"Russia\", \"Israel\", \"Denmark\", \"Poland\", \"Netherlands\", \"Chile\", \"Ireland\", \"United States, Australia\", \"Mexico, United States\", \"United States, Mexico\", \"United States, France\", \"New Zealand\", \"Norway\", \"India, United States\", \"Sweden\", \"Argentina, Spain\", \"United States, France, Japan\", \"Australia, United States\", \"United States, India\", \"United Kingdom, France\", \"Belgium\", \"South Korea, United States\", \"Japan, United States\", \"Germany, United States\", \"United States, China\", \"Lebanon\", \"Spain, France\", \"South Africa\", \"United Kingdom, Canada, United States\", \"Peru\", \"Italy, France\", \"United States, Czech Republic\", \"United States, United Kingdom, Australia\", \"Vietnam\", \"Romania\", \"United States, Italy\", \"United Kingdom, United States, Spain, Germany, Greece, Canada\", \"India, France\", \"France, United States\", \"United Arab Emirates\", \"United Kingdom, Japan, United States\", \"France, Canada\", \"Israel, United States\", \"United States, Sweden\", \"United Kingdom, Germany\", \"Italy, United States\", \"South Africa, United States\", \"Canada, United Kingdom, United States\", \"Belgium, France\", \"United Kingdom, France, United States\", \"United States, Spain\", \"Hong Kong, United States\", \"India, Turkey\", \"United Kingdom, Canada\", \"United States, New Zealand\", \"United States, United Arab Emirates\", \"United States, United Kingdom, France\", \"Sweden, United States\", \"Australia, United Arab Emirates\", \"Austria\", \"United States, South Africa\", \"Poland, United States\", \"Bulgaria, United States\", \"Iceland\", \"Singapore, United States\", \"Canada, United Kingdom\", \"Bangladesh\", \"Germany, United States, Canada\", \"Spain, Argentina\", \"United Kingdom, India\", \"Canada, Australia\", \"United States, Chile\", \"United States, Hong Kong\", \"New Zealand, United States\", \"United States, United Kingdom, Canada\", \"United States, United Kingdom, Germany\", \"Czech Republic, United States\", \"United States, Brazil, South Korea, Mexico, Japan, Germany\", \"Canada, India\", \"Denmark, United States\", \"India, Soviet Union\", \"United Kingdom, France, Belgium\", \"Indonesia, Singapore\", \"France, South Korea, Japan\", \"Germany, Australia\", \"Uruguay\", \"United Arab Emirates, United States\", \"Brazil, France\", \"Australia, Canada\", \"Switzerland, United States\", \"United States, Japan, Canada\", \"Ukraine\", \"Ireland, United Kingdom, United States\", \"India, Germany\", \"United States, Bulgaria\", \"United States, Ireland\", \"Argentina, Italy\", \"Mexico, Spain\", \"Spain, Mexico\", \"United Kingdom, India, United States\", \"Belgium, Netherlands\", \"United Kingdom, Ireland\", \"United States, Germany, United Kingdom\", \"United States, Germany, Canada\", \"Canada, United States, United Kingdom\", \"Hungary\", \"Switzerland\", \"United States, South Korea, China\", \"Germany, United Kingdom\", \"Colombia, Mexico, United States\", \"Argentina, France\", \"United Kingdom, Italy, Argentina, United States\", \"Denmark, Indonesia, Finland, Norway, United Kingdom, Israel, France, United States, Germany, Netherlands\", \"United States, Israel, Italy, South Africa\", \"United Kingdom, Egypt, United States\", \"Uruguay, Argentina, Spain\", \"Thailand, Canada, United States\", \"Ireland, Canada, United States, United Kingdom\", \"Denmark, Germany, Belgium, United Kingdom, France\", \"Ireland, United Kingdom, Italy, United States\", \"France, Poland\", \"Philippines, Qatar\", \"New Zealand, United Kingdom\", \"Chile, Argentina, France, Spain, United States\", \"Turkey, United States\", \"Indonesia, South Korea, Singapore\", \"Norway, Denmark, Sweden\", \"Philippines, Singapore\", \"United States, France, United Kingdom, Japan\", \"United Arab Emirates, Romania\", \"Singapore, Malaysia\", \"Germany, France, Russia\", \"India, Malaysia\", \"United Kingdom, Namibia, South Africa, Zimbabwe, United States\", \"United States, Netherlands, Japan, France\", \"United States, Israel, United Kingdom, Canada\", \"Ghana\", \"Chile, Argentina\", \"United Kingdom, Italy, Israel, Peru, United States\", \"Argentina, Chile, Peru\", \"Denmark, Zimbabwe\", \"South Africa, China, United States\", \"Ireland, Canada, United Kingdom, United States\", \"United Kingdom, Malawi\", \"Thailand, United States\", \"Canada, India, Thailand, United States, United Arab Emirates\", \"France, Belgium, Spain\", \"China, Germany, India, United States\", \"Colombia, Mexico\", \"United Kingdom, United States, Australia\", \"Cambodia\", \"United States, Denmark\", \"France, Germany\", \"Australia, Iraq\", \"India, Mexico\", \"Australia, United Kingdom, Canada\", \"Cyprus, Austria, Thailand\", \"Ireland, South Africa\", \"United Kingdom, Belgium, Sweden\", \"Belgium, India, Australia\", \"United States, Australia, China\", \"Croatia\", \"United States, United Kingdom, France, Germany, Japan\", \"United States, France, Canada, Spain\", \"Netherlands, Belgium, United Kingdom, United States\", \"Chile, Spain, Argentina, Germany\", \"Slovenia, Croatia, Germany, Czech Republic, Qatar\", \"United Kingdom, France, Belgium, United States\", \"Czech Republic, Slovakia\", \"Spain, Mexico, France\", \"Thailand, China, United States\", \"Italy, India\", \"France, Netherlands, South Africa, Finland\", \"China, Taiwan\", \"Argentina, United States\", \"Canada, United Kingdom, Netherlands\", \"Czech Republic, France\", \"Ghana, United States\", \"Peru, United States, United Kingdom\", \"Guatemala\", \"Taiwan, China, France, United States\", \"Canada, France\", \"Germany, France, Luxembourg, United Kingdom, United States\", \"United States, India, Bangladesh\", \"Argentina, Brazil, France, Poland, Germany, Denmark\", \"Brazil, India, China, United States\", \"Pakistan, Norway, United States\", \"Canada, Japan, Netherlands\", \"United States, East Germany, West Germany\", \"United Kingdom, Jordan, Qatar, Iran\", \"Paraguay, Argentina\", \"Egypt, Austria, United States\", \"United Kingdom, Spain, Belgium\", \"Serbia, South Korea, Slovenia\", \"Spain, United Kingdom, United States\", \"Israel, Germany, France\", \"Spain, France, Italy\", \"China, United States, United Kingdom\", \"Germany, United Kingdom, United States\", \"Brazil, Canada\", \"Canada, Ireland, United States\", \"Australia, United Kingdom\", \"Norway, Iceland, United States\", \"France, Qatar\", \"United States, Nicaragua\", \"Canada, Norway\", \"United Kingdom, Pakistan\", \"United States, India, United Arab Emirates\", \"United States, France, Canada\", \"Germany, United States, United Kingdom, Canada\", \"Mexico, Netherlands\", \"Bulgaria, United States, Spain, Canada\", \"Finland, Germany\", \"United States, United Kingdom, Spain, South Korea\", \"Canada, Germany, South Africa\", \"United States, Venezuela\", \"Denmark, Singapore, Canada, United States\", \"China, Morocco, Hong Kong\", \"France, Luxembourg, Canada\", \"United States, Spain, Colombia, Mexico\", \"Italy, Germany\", \"Germany, United States, Sweden\", \"Netherlands, Belgium\", \"India, Japan\", \"United States, New Zealand, Japan\", \"United States, Hungary\", \"Egypt, France\", \"Spain, Portugal\", \"Israel, Germany\", \"Sweden, United Kingdom, Finland\", \"Poland, West Germany\", \"Czech Republic, United Kingdom, France\", \"United States, United Kingdom, Morocco\", \"Denmark, France, United States, Sweden\", \"Croatia, Slovenia, Serbia, Montenegro\", \"India, Australia\", \"United Kingdom, United States, Czech Republic\", \"Singapore, France\", \"Denmark, France, Poland\", \"Russia, United States\", \"France, Luxembourg, United States\", \"Denmark, France, Italy, Belgium, Netherlands\", \"Ireland, Canada\", \"United States, Canada, Belgium, United Kingdom\", \"United Kingdom, Spain, United States, Germany\", \"United States, Canada, Germany\", \"Lebanon, Jordan\", \"United States, Iceland\", \"United States, United Kingdom, Denmark, Sweden\", \"Portugal, Spain\", \"Cambodia, United States\", \"China, Hong Kong, United States\", \"Somalia, Kenya, Sudan, South Africa, United States\", \"Italy, Switzerland, Albania, Poland\", \"Switzerland, United Kingdom, United States\", \"United States, Canada, France\", \"United States, Greece, Brazil\", \"Mauritius, South Africa\", \"Denmark, Brazil, France, Portugal, Sweden\", \"Denmark, United Kingdom, South Africa, Sweden, Belgium\", \"Saudi Arabia, Syria, Egypt, Lebanon, Kuwait\", \"Brazil, United States\", \"United States, Spain, Germany\", \"France, China, Japan, United States\", \"India, Germany, Austria\", \"France, United States, Mexico\", \"United Kingdom, United States, Russia\", \"Pakistan, United States\", \"Israel, Sweden, Germany, Netherlands\", \"United States, Kazakhstan\", \"South Korea, France\", \"Colombia, United States\", \"Argentina, Uruguay, Spain, France\", \"Netherlands, Germany, Italy, Canada\", \"United Kingdom, Germany, United States\", \"United States, Senegal\", \"Australia, Armenia, Japan, Jordan, Mexico, Mongolia, New Zealand, Philippines, South Africa, Sweden, United States, Uruguay\", \"Soviet Union, India\", \"United Kingdom, Israel, Russia\", \"Bulgaria\", \"France, Germany, Switzerland\", \"South Korea, China, United States\", \"Belgium, Luxembourg, France\", \"Finland\", \"United Kingdom, South Korea\", \"United States, Mexico, Colombia\", \"Italy, Belgium, France\", \"United Kingdom, United States, Morocco\", \"United Kingdom, Brazil, Germany\", \"United States, Canada, Ireland\", \"Dominican Republic\", \"Spain, Belgium\", \"China, India, Nepal\", \"France, Morocco\", \"Austria, Iraq, United States\", \"Argentina, France, Germany\", \"United States, Russia\", \"Australia, New Zealand\", \"China, United States, Australia\", \"Spain, Cuba\", \"Germany, Italy\", \"Spain, United Kingdom\", \"Finland, France\", \"United States, Spain, Italy\", \"China, South Korea, United States\", \"Italy, South Africa, West Germany, Australia, United States\", \"Mexico, Finland\", \"United Kingdom, United States, Greece, Italy, Germany\", \"Australia, France\", \"Malaysia, Singapore, Hong Kong\", \"Norway, United Kingdom, France, Ireland\", \"France, Senegal, Belgium\", \"Spain, Switzerland\", \"Switzerland, Vatican City, Italy, Germany, France\", \"Netherlands, Denmark, South Africa\", \"United Arab Emirates, United States, United Kingdom\", \"Indonesia, United States\", \"Canada, Japan, United States\", \"United States, Malta, United Kingdom\", \"Brazil, France, Germany\", \"Austria, United States\", \"Austria, Czech Republic\", \"Japan, Canada, South Korea\", \"United Kingdom, South Africa, Australia, United States\", \"Singapore, Japan, France\", \"India, United Kingdom\", \"France, Netherlands, Singapore\", \"Canada, France, Italy, Morocco, United States\", \"China, Japan\", \"United States, India, South Korea, China\", \"Venezuela\", \"China, Canada, United States\", \"Ireland, United Kingdom, Greece, France, Netherlands\", \"Canada, Brazil\", \"United Kingdom, Thailand\", \"Belgium, Ireland, Netherlands, Germany, Afghanistan\", \"United States, Italy, United Kingdom, Liechtenstein\", \"United States, Germany, Australia\", \"Denmark, Sweden, Israel, United States\", \"India, Switzerland\", \"France, Iran, United States\", \"United Kingdom, Australia, Canada, United States\", \"Italy, Turkey\", \"Turkey, Azerbaijan\", \"United Kingdom, United States, Germany, Denmark, Belgium, Japan\", \"Pakistan, United Arab Emirates\", \"Brazil, Netherlands, United States, Colombia, Austria, Germany\", \"India, Canada\", \"Hong Kong, China, United States\", \"South Africa, United States, New Zealand, Canada\", \"Venezuela, Colombia\", \"Iran, France\", \"United Kingdom, New Zealand\", \"Chile, Peru\", \"United Kingdom, Canada, Italy\", \"Finland, Germany, Belgium\", \"United Kingdom, Singapore\", \"Hong Kong, Taiwan\", \"United States, United Kingdom, Canada, Japan\", \"Romania, Bulgaria, Hungary\", \"United States, India, Malaysia, Taiwan, Canada, United Kingdom\", \"United Kingdom, India, Sweden\", \"United Kingdom, China, Canada, Indonesia, Singapore, United States\", \"Denmark, United Kingdom\", \"Canada, United States, France\", \"Italy, Switzerland, France, Germany\", \"Saudi Arabia\", \"Canada, Germany, France, United States\", \"Spain, Belgium, Switzerland, United States, China, United Kingdom\", \"France, China, Canada\", \"Hong Kong, China, Singapore\", \"Canada, Spain\", \"India, Germany, France\", \"United Kingdom, United States, France, Germany\", \"Denmark, Germany, Belgium, United Kingdom, France, Sweden\", \"United Kingdom, Canada, United States, Cayman Islands\", \"Italy, United Kingdom, France\", \"United States, Uruguay\", \"Chile, United States, France\", \"United States, United Kingdom, Italy\", \"France, Japan\", \"Norway, Denmark, Netherlands, Sweden\", \"United Kingdom, Hong Kong\", \"France, Canada, Belgium\", \"Spain, Italy, Argentina\", \"France, Switzerland, Spain, United States, United Arab Emirates\", \"Germany, Sri Lanka\", \"United States, Bermuda, Ecuador\", \"China, United Kingdom\", \"United Kingdom, Canada, France, United States\", \"United Arab Emirates, Jordan\", \"United Arab Emirates, United Kingdom, India\", \"Russia, Poland, Serbia\", \"Netherlands, United States\", \"Georgia, Germany, France\", \"Denmark, Spain\", \"United States, Hungary, Ireland, Canada\", \"Germany, France, United States, Canada, United Kingdom\", \"United Kingdom, Poland\", \"United States, Germany, United Kingdom, Italy\", \"United Kingdom, Denmark, Canada, Croatia\", \"Australia, India\", \"West Germany\", \"Serbia, United States\", \"Argentina, United States, Mexico\", \"France, Germany, Czech Republic, Belgium\", \"Lebanon, Qatar\", \"United States, France, Mexico\", \"France, United Kingdom\", \"India, Nepal\", \"United States, Australia, Samoa, United Kingdom\", \"United Kingdom, Italy, France, United States\", \"South Africa, United States, Germany\", \"Russia, Spain\", \"Spain, Colombia\", \"India, Iran\", \"Norway, Germany, Sweden\", \"Canada, France, United States\", \"United States, Colombia, Mexico\", \"United Kingdom, France, Germany\", \"Australia, New Zealand, United States\", \"Germany, Jordan, Netherlands\", \"Spain, Germany\", \"Canada, Mexico, Germany, South Africa\", \"Australia, United Kingdom, United Arab Emirates, Canada\", \"United Kingdom, China, United States\", \"United States, China, Hong Kong\", \"Italy, France, Switzerland\", \"Iceland, Sweden, Belgium\", \"Germany, Canada, United States\", \"Italy, United States, Argentina\", \"South Korea, Czech Republic\", \"United States, Spain, Chile, Peru\", \"Uruguay, Spain, Mexico\", \"India, Pakistan\", \"United Kingdom, France, Canada, Belgium, United States\", \"Spain, France, Uruguay\", \"Denmark, China\", \"Argentina, Chile\", \"Finland, Sweden, Norway, Latvia, Germany\", \"Germany, United States, Hong Kong, Singapore\", \"United Kingdom, Russia\", \"United States, France, Canada, Lebanon, Qatar\", \"Canada, Spain, France\", \"Norway, Sweden\", \"United Kingdom, Canada, Japan\", \"Germany, United States, Italy\", \"United States, Cambodia\", \"United States, Mexico, Spain, Malta\", \"Poland,\", \"United States, Canada, Japan, Panama\", \"United States, France, South Korea, Indonesia\", \"United States, Brazil, India, Uganda, China\", \"Chile, France\", \"United States, Argentina\", \"United States, Australia, Mexico\", \"United Kingdom, Poland, United States\", \"United Kingdom, Germany, Canada, United States\", \"Belgium, United Kingdom, United States\", \"United States, Czech Republic, United Kingdom\", \"Italy, Canada, France\", \"United States, Colombia\", \"Turkey, India\", \"United States, Ireland, United Kingdom\", \"New Zealand, United Kingdom, Australia\", \"France, United Kingdom, United States\", \"United Kingdom, South Africa\", \"Georgia\", \"France, Belgium, China, United States\", \"Turkey, France, Germany, Poland\", \"United Kingdom, Ukraine, United States\", \"United States,\", \"France, United Kingdom, India\", \"Netherlands, Belgium, Germany, Jordan\", \"United Kingdom, France, Germany, Spain\", \"United States, Canada, United Kingdom\", \"India, United Kingdom, Canada, United States\", \"United Kingdom,\", \"South Korea, Canada, United States, China\", \"Canada, United States, India, United Kingdom\", \"United Kingdom, Norway, Denmark, Germany, Sweden\", \"United States, Taiwan\", \"United Kingdom, Germany, Canada\", \"Argentina, Uruguay, Serbia\", \"Israel, Germany, Poland, Luxembourg, Belgium, France, United States\", \"United Kingdom, West Germany\", \"Canada, Luxembourg\", \"United States, Greece, United Kingdom\", \"United States, Australia, South Africa, United Kingdom\", \"United States, Indonesia\", \"United States, Brazil\", \"Mexico, France\", \"Netherlands, Denmark, France, Germany\", \"United States, South Korea, Japan\", \"United States, Morocco\", \"Norway, United States\", \"Germany, Belgium\", \"Australia, France, Ireland\", \"Mexico, Argentina\", \"South Africa, Germany, Netherlands, France\", \"Ireland, United Kingdom\", \"Sweden, Netherlands\", \"China, United States\", \"Japan, Canada\", \"United States, New Zealand, United Kingdom\", \"Taiwan, Hong Kong, United States, China\", \"Ireland, Canada, Luxembourg, United States\", \"France, United States, Canada\", \"United States, South Korea\", \"United States, Botswana\", \"Norway, Germany\", \"United Kingdom, United States, Dominican Republic\", \"Australia, United Kingdom, United States, New Zealand, Italy, France\", \"Switzerland, France\", \"United States, France, Italy, United Kingdom\", \"United States, Germany, Mexico\", \"Portugal, France, Poland, United States\", \"Ireland, United States, France\"], \"name\": \"\", \"showlegend\": true, \"showscale\": false, \"type\": \"choropleth\", \"z\": [1, 1, 1, 1, 1, 1, 1, 1, 1, 1, 1, 1, 1, 1, 1, 1, 1, 1, 1, 1, 1, 1, 1, 1, 1, 1, 1, 1, 1, 1, 1, 1, 1, 1, 1, 1, 1, 1, 1, 1, 1, 1, 1, 1, 1, 1, 1, 1, 1, 1, 1, 1, 1, 1, 1, 1, 1, 1, 1, 1, 1, 1, 1, 1, 1, 1, 1, 1, 1, 1, 1, 1, 1, 1, 1, 1, 1, 1, 1, 1, 1, 1, 1, 1, 1, 1, 1, 1, 1, 1, 1, 1, 1, 1, 1, 1, 1, 1, 1, 1, 1, 1, 1, 1, 1, 1, 1, 1, 1, 1, 1, 1, 1, 1, 1, 1, 1, 1, 1, 1, 1, 1, 1, 1, 1, 1, 1, 1, 1, 1, 1, 1, 1, 1, 1, 1, 1, 1, 1, 1, 1, 1, 1, 1, 1, 1, 1, 1, 1, 1, 1, 1, 1, 1, 1, 1, 1, 1, 1, 1, 1, 1, 1, 1, 1, 1, 1, 1, 1, 1, 1, 1, 1, 1, 1, 1, 1, 1, 1, 1, 1, 1, 1, 1, 1, 1, 1, 1, 1, 1, 1, 1, 1, 1, 1, 1, 1, 1, 1, 1, 1, 1, 1, 1, 1, 1, 1, 1, 1, 1, 1, 1, 1, 1, 1, 1, 1, 1, 1, 1, 1, 1, 1, 1, 1, 1, 1, 1, 1, 1, 1, 1, 1, 1, 1, 1, 1, 1, 1, 1, 1, 1, 1, 1, 1, 1, 1, 1, 1, 1, 1, 1, 1, 1, 1, 1, 1, 1, 1, 1, 1, 1, 1, 1, 1, 1, 1, 1, 1, 1, 1, 1, 1, 1, 1, 1, 1, 1, 1, 1, 1, 1, 1, 1, 1, 1, 1, 1, 1, 1, 1, 1, 1, 1, 1, 1, 1, 1, 1, 1, 1, 1, 1, 1, 1, 1, 1, 1, 1, 1, 1, 1, 1, 1, 1, 1, 1, 1, 1, 1, 1, 1, 1, 1, 1, 1, 1, 1, 1, 1, 1, 1, 1, 1, 1, 1, 1, 1, 1, 1, 1, 1, 1, 1, 1, 1, 1, 1, 1, 1, 1, 1, 1, 1, 1, 1, 1, 1, 1, 1, 1, 1, 1, 1, 1, 1, 1, 1, 1, 1, 1, 1, 1, 1, 1, 1, 1, 1, 1, 1, 1, 1, 1, 1, 1, 1, 1, 1, 1, 1, 1, 1, 1, 1, 1, 1, 1, 1, 1, 1, 1, 1, 1, 1, 1, 1, 1, 1, 1, 1, 1, 1, 1, 1, 1, 1, 1, 1, 1, 1, 1, 1, 1, 1, 1, 1, 1, 1, 1, 1, 1, 1, 1, 1, 1, 1, 1, 1, 1, 1, 1, 1, 1, 1, 1, 1, 1, 1, 1, 1, 1, 1, 1, 1, 1, 1, 1, 1, 1, 1, 1, 1, 1, 1, 1, 1, 1, 1, 1, 1, 1, 1, 1, 1, 1, 1, 1, 1, 1, 1, 1, 1, 1, 1, 1, 1, 1, 1, 1, 1, 1, 1, 1, 1, 1, 1, 1, 1, 1, 1, 1, 1, 1, 1, 1, 1, 1, 1, 1, 1, 1, 1, 1, 1, 1, 1, 1, 1, 1, 1, 1, 1, 1, 1, 1, 1, 1, 1, 1, 1, 1, 1, 1, 1, 1, 1, 1, 1, 1, 1, 1, 1, 1, 1, 1, 1, 1, 1, 1, 1, 1, 1, 1, 1]}],                        {\"geo\": {\"center\": {}, \"domain\": {\"x\": [0.0, 1.0], \"y\": [0.0, 1.0]}}, \"legend\": {\"tracegroupgap\": 0}, \"margin\": {\"t\": 60}, \"template\": {\"data\": {\"bar\": [{\"error_x\": {\"color\": \"#2a3f5f\"}, \"error_y\": {\"color\": \"#2a3f5f\"}, \"marker\": {\"line\": {\"color\": \"#E5ECF6\", \"width\": 0.5}}, \"type\": \"bar\"}], \"barpolar\": [{\"marker\": {\"line\": {\"color\": \"#E5ECF6\", \"width\": 0.5}}, \"type\": \"barpolar\"}], \"carpet\": [{\"aaxis\": {\"endlinecolor\": \"#2a3f5f\", \"gridcolor\": \"white\", \"linecolor\": \"white\", \"minorgridcolor\": \"white\", \"startlinecolor\": \"#2a3f5f\"}, \"baxis\": {\"endlinecolor\": \"#2a3f5f\", \"gridcolor\": \"white\", \"linecolor\": \"white\", \"minorgridcolor\": \"white\", \"startlinecolor\": \"#2a3f5f\"}, \"type\": \"carpet\"}], \"choropleth\": [{\"colorbar\": {\"outlinewidth\": 0, \"ticks\": \"\"}, \"type\": \"choropleth\"}], \"contour\": [{\"colorbar\": {\"outlinewidth\": 0, \"ticks\": \"\"}, \"colorscale\": [[0.0, \"#0d0887\"], [0.1111111111111111, \"#46039f\"], [0.2222222222222222, \"#7201a8\"], [0.3333333333333333, \"#9c179e\"], [0.4444444444444444, \"#bd3786\"], [0.5555555555555556, \"#d8576b\"], [0.6666666666666666, \"#ed7953\"], [0.7777777777777778, \"#fb9f3a\"], [0.8888888888888888, \"#fdca26\"], [1.0, \"#f0f921\"]], \"type\": \"contour\"}], \"contourcarpet\": [{\"colorbar\": {\"outlinewidth\": 0, \"ticks\": \"\"}, \"type\": \"contourcarpet\"}], \"heatmap\": [{\"colorbar\": {\"outlinewidth\": 0, \"ticks\": \"\"}, \"colorscale\": [[0.0, \"#0d0887\"], [0.1111111111111111, \"#46039f\"], [0.2222222222222222, \"#7201a8\"], [0.3333333333333333, \"#9c179e\"], [0.4444444444444444, \"#bd3786\"], [0.5555555555555556, \"#d8576b\"], [0.6666666666666666, \"#ed7953\"], [0.7777777777777778, \"#fb9f3a\"], [0.8888888888888888, \"#fdca26\"], [1.0, \"#f0f921\"]], \"type\": \"heatmap\"}], \"heatmapgl\": [{\"colorbar\": {\"outlinewidth\": 0, \"ticks\": \"\"}, \"colorscale\": [[0.0, \"#0d0887\"], [0.1111111111111111, \"#46039f\"], [0.2222222222222222, \"#7201a8\"], [0.3333333333333333, \"#9c179e\"], [0.4444444444444444, \"#bd3786\"], [0.5555555555555556, \"#d8576b\"], [0.6666666666666666, \"#ed7953\"], [0.7777777777777778, \"#fb9f3a\"], [0.8888888888888888, \"#fdca26\"], [1.0, \"#f0f921\"]], \"type\": \"heatmapgl\"}], \"histogram\": [{\"marker\": {\"colorbar\": {\"outlinewidth\": 0, \"ticks\": \"\"}}, \"type\": \"histogram\"}], \"histogram2d\": [{\"colorbar\": {\"outlinewidth\": 0, \"ticks\": \"\"}, \"colorscale\": [[0.0, \"#0d0887\"], [0.1111111111111111, \"#46039f\"], [0.2222222222222222, \"#7201a8\"], [0.3333333333333333, \"#9c179e\"], [0.4444444444444444, \"#bd3786\"], [0.5555555555555556, \"#d8576b\"], [0.6666666666666666, \"#ed7953\"], [0.7777777777777778, \"#fb9f3a\"], [0.8888888888888888, \"#fdca26\"], [1.0, \"#f0f921\"]], \"type\": \"histogram2d\"}], \"histogram2dcontour\": [{\"colorbar\": {\"outlinewidth\": 0, \"ticks\": \"\"}, \"colorscale\": [[0.0, \"#0d0887\"], [0.1111111111111111, \"#46039f\"], [0.2222222222222222, \"#7201a8\"], [0.3333333333333333, \"#9c179e\"], [0.4444444444444444, \"#bd3786\"], [0.5555555555555556, \"#d8576b\"], [0.6666666666666666, \"#ed7953\"], [0.7777777777777778, \"#fb9f3a\"], [0.8888888888888888, \"#fdca26\"], [1.0, \"#f0f921\"]], \"type\": \"histogram2dcontour\"}], \"mesh3d\": [{\"colorbar\": {\"outlinewidth\": 0, \"ticks\": \"\"}, \"type\": \"mesh3d\"}], \"parcoords\": [{\"line\": {\"colorbar\": {\"outlinewidth\": 0, \"ticks\": \"\"}}, \"type\": \"parcoords\"}], \"pie\": [{\"automargin\": true, \"type\": \"pie\"}], \"scatter\": [{\"marker\": {\"colorbar\": {\"outlinewidth\": 0, \"ticks\": \"\"}}, \"type\": \"scatter\"}], \"scatter3d\": [{\"line\": {\"colorbar\": {\"outlinewidth\": 0, \"ticks\": \"\"}}, \"marker\": {\"colorbar\": {\"outlinewidth\": 0, \"ticks\": \"\"}}, \"type\": \"scatter3d\"}], \"scattercarpet\": [{\"marker\": {\"colorbar\": {\"outlinewidth\": 0, \"ticks\": \"\"}}, \"type\": \"scattercarpet\"}], \"scattergeo\": [{\"marker\": {\"colorbar\": {\"outlinewidth\": 0, \"ticks\": \"\"}}, \"type\": \"scattergeo\"}], \"scattergl\": [{\"marker\": {\"colorbar\": {\"outlinewidth\": 0, \"ticks\": \"\"}}, \"type\": \"scattergl\"}], \"scattermapbox\": [{\"marker\": {\"colorbar\": {\"outlinewidth\": 0, \"ticks\": \"\"}}, \"type\": \"scattermapbox\"}], \"scatterpolar\": [{\"marker\": {\"colorbar\": {\"outlinewidth\": 0, \"ticks\": \"\"}}, \"type\": \"scatterpolar\"}], \"scatterpolargl\": [{\"marker\": {\"colorbar\": {\"outlinewidth\": 0, \"ticks\": \"\"}}, \"type\": \"scatterpolargl\"}], \"scatterternary\": [{\"marker\": {\"colorbar\": {\"outlinewidth\": 0, \"ticks\": \"\"}}, \"type\": \"scatterternary\"}], \"surface\": [{\"colorbar\": {\"outlinewidth\": 0, \"ticks\": \"\"}, \"colorscale\": [[0.0, \"#0d0887\"], [0.1111111111111111, \"#46039f\"], [0.2222222222222222, \"#7201a8\"], [0.3333333333333333, \"#9c179e\"], [0.4444444444444444, \"#bd3786\"], [0.5555555555555556, \"#d8576b\"], [0.6666666666666666, \"#ed7953\"], [0.7777777777777778, \"#fb9f3a\"], [0.8888888888888888, \"#fdca26\"], [1.0, \"#f0f921\"]], \"type\": \"surface\"}], \"table\": [{\"cells\": {\"fill\": {\"color\": \"#EBF0F8\"}, \"line\": {\"color\": \"white\"}}, \"header\": {\"fill\": {\"color\": \"#C8D4E3\"}, \"line\": {\"color\": \"white\"}}, \"type\": \"table\"}]}, \"layout\": {\"annotationdefaults\": {\"arrowcolor\": \"#2a3f5f\", \"arrowhead\": 0, \"arrowwidth\": 1}, \"coloraxis\": {\"colorbar\": {\"outlinewidth\": 0, \"ticks\": \"\"}}, \"colorscale\": {\"diverging\": [[0, \"#8e0152\"], [0.1, \"#c51b7d\"], [0.2, \"#de77ae\"], [0.3, \"#f1b6da\"], [0.4, \"#fde0ef\"], [0.5, \"#f7f7f7\"], [0.6, \"#e6f5d0\"], [0.7, \"#b8e186\"], [0.8, \"#7fbc41\"], [0.9, \"#4d9221\"], [1, \"#276419\"]], \"sequential\": [[0.0, \"#0d0887\"], [0.1111111111111111, \"#46039f\"], [0.2222222222222222, \"#7201a8\"], [0.3333333333333333, \"#9c179e\"], [0.4444444444444444, \"#bd3786\"], [0.5555555555555556, \"#d8576b\"], [0.6666666666666666, \"#ed7953\"], [0.7777777777777778, \"#fb9f3a\"], [0.8888888888888888, \"#fdca26\"], [1.0, \"#f0f921\"]], \"sequentialminus\": [[0.0, \"#0d0887\"], [0.1111111111111111, \"#46039f\"], [0.2222222222222222, \"#7201a8\"], [0.3333333333333333, \"#9c179e\"], [0.4444444444444444, \"#bd3786\"], [0.5555555555555556, \"#d8576b\"], [0.6666666666666666, \"#ed7953\"], [0.7777777777777778, \"#fb9f3a\"], [0.8888888888888888, \"#fdca26\"], [1.0, \"#f0f921\"]]}, \"colorway\": [\"#636efa\", \"#EF553B\", \"#00cc96\", \"#ab63fa\", \"#FFA15A\", \"#19d3f3\", \"#FF6692\", \"#B6E880\", \"#FF97FF\", \"#FECB52\"], \"font\": {\"color\": \"#2a3f5f\"}, \"geo\": {\"bgcolor\": \"white\", \"lakecolor\": \"white\", \"landcolor\": \"#E5ECF6\", \"showlakes\": true, \"showland\": true, \"subunitcolor\": \"white\"}, \"hoverlabel\": {\"align\": \"left\"}, \"hovermode\": \"closest\", \"mapbox\": {\"style\": \"light\"}, \"paper_bgcolor\": \"white\", \"plot_bgcolor\": \"#E5ECF6\", \"polar\": {\"angularaxis\": {\"gridcolor\": \"white\", \"linecolor\": \"white\", \"ticks\": \"\"}, \"bgcolor\": \"#E5ECF6\", \"radialaxis\": {\"gridcolor\": \"white\", \"linecolor\": \"white\", \"ticks\": \"\"}}, \"scene\": {\"xaxis\": {\"backgroundcolor\": \"#E5ECF6\", \"gridcolor\": \"white\", \"gridwidth\": 2, \"linecolor\": \"white\", \"showbackground\": true, \"ticks\": \"\", \"zerolinecolor\": \"white\"}, \"yaxis\": {\"backgroundcolor\": \"#E5ECF6\", \"gridcolor\": \"white\", \"gridwidth\": 2, \"linecolor\": \"white\", \"showbackground\": true, \"ticks\": \"\", \"zerolinecolor\": \"white\"}, \"zaxis\": {\"backgroundcolor\": \"#E5ECF6\", \"gridcolor\": \"white\", \"gridwidth\": 2, \"linecolor\": \"white\", \"showbackground\": true, \"ticks\": \"\", \"zerolinecolor\": \"white\"}}, \"shapedefaults\": {\"line\": {\"color\": \"#2a3f5f\"}}, \"ternary\": {\"aaxis\": {\"gridcolor\": \"white\", \"linecolor\": \"white\", \"ticks\": \"\"}, \"baxis\": {\"gridcolor\": \"white\", \"linecolor\": \"white\", \"ticks\": \"\"}, \"bgcolor\": \"#E5ECF6\", \"caxis\": {\"gridcolor\": \"white\", \"linecolor\": \"white\", \"ticks\": \"\"}}, \"title\": {\"x\": 0.05}, \"xaxis\": {\"automargin\": true, \"gridcolor\": \"white\", \"linecolor\": \"white\", \"ticks\": \"\", \"title\": {\"standoff\": 15}, \"zerolinecolor\": \"white\", \"zerolinewidth\": 2}, \"yaxis\": {\"automargin\": true, \"gridcolor\": \"white\", \"linecolor\": \"white\", \"ticks\": \"\", \"title\": {\"standoff\": 15}, \"zerolinecolor\": \"white\", \"zerolinewidth\": 2}}}},                        {\"responsive\": true}                    ).then(function(){\n",
       "                            \n",
       "var gd = document.getElementById('064e769a-7be6-47eb-8a43-48c0fc946997');\n",
       "var x = new MutationObserver(function (mutations, observer) {{\n",
       "        var display = window.getComputedStyle(gd).display;\n",
       "        if (!display || display === 'none') {{\n",
       "            console.log([gd, 'removed!']);\n",
       "            Plotly.purge(gd);\n",
       "            observer.disconnect();\n",
       "        }}\n",
       "}});\n",
       "\n",
       "// Listen for the removal of the full notebook cells\n",
       "var notebookContainer = gd.closest('#notebook-container');\n",
       "if (notebookContainer) {{\n",
       "    x.observe(notebookContainer, {childList: true});\n",
       "}}\n",
       "\n",
       "// Listen for the clearing of the current output cell\n",
       "var outputEl = gd.closest('.output');\n",
       "if (outputEl) {{\n",
       "    x.observe(outputEl, {childList: true});\n",
       "}}\n",
       "\n",
       "                        })                };                });            </script>        </div>"
      ]
     },
     "metadata": {},
     "output_type": "display_data"
    }
   ],
   "source": [
    "Country = pd.DataFrame(df[\"country\"].value_counts().reset_index().values,columns=[\"country\",\"TotalShows\"])\n",
    "Country.head()\n",
    "\n",
    "fig = px.choropleth(   \n",
    "    locationmode='country names',\n",
    "    locations=Country.country,\n",
    "    featureidkey=\"Country.country\",\n",
    "    labels=Country[\"TotalShows\"],\n",
    "   \n",
    "    )\n",
    "fig.show()"
   ]
  },
  {
   "cell_type": "code",
   "execution_count": null,
   "metadata": {},
   "outputs": [],
   "source": []
  }
 ],
 "metadata": {
  "kernelspec": {
   "display_name": "Python 3",
   "language": "python",
   "name": "python3"
  },
  "language_info": {
   "codemirror_mode": {
    "name": "ipython",
    "version": 3
   },
   "file_extension": ".py",
   "mimetype": "text/x-python",
   "name": "python",
   "nbconvert_exporter": "python",
   "pygments_lexer": "ipython3",
   "version": "3.7.6"
  }
 },
 "nbformat": 4,
 "nbformat_minor": 4
}
